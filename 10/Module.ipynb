{
 "cells": [
  {
   "cell_type": "code",
   "execution_count": null,
   "metadata": {},
   "outputs": [],
   "source": [
    "import turtle\n",
    "\n",
    "turtle.forward(100)\n",
    "turtle.right(100)\n",
    "turtle.circle(30)\n",
    "turtle.forward(100)\n",
    "turtle.done()"
   ]
  },
  {
   "cell_type": "code",
   "execution_count": null,
   "metadata": {},
   "outputs": [],
   "source": [
    "from turtle import right , circle , done\n",
    "import turtle\n",
    "for_t = turtle.forward\n",
    "for_t(100)\n",
    "right(100)\n",
    "circle(30)\n",
    "for_t(100)\n",
    "done()"
   ]
  },
  {
   "cell_type": "code",
   "execution_count": null,
   "metadata": {},
   "outputs": [],
   "source": [
    "from turtle import *\n",
    "forward(100)\n",
    "right(100)\n",
    "circle(30)\n",
    "forward(100)\n",
    "done()"
   ]
  },
  {
   "cell_type": "code",
   "execution_count": null,
   "metadata": {},
   "outputs": [],
   "source": [
    "from turtle import *\n",
    "forward(100)\n",
    "left(120)\n",
    "forward(100)\n",
    "left(120)\n",
    "forward(100)\n",
    "done()"
   ]
  },
  {
   "cell_type": "code",
   "execution_count": null,
   "metadata": {},
   "outputs": [],
   "source": [
    "# print(dir())\n",
    "# print(dir(__builtins__))\n",
    "# print(dir(__builtins__.__import__))\n",
    "help(\"import\")"
   ]
  },
  {
   "cell_type": "code",
   "execution_count": null,
   "metadata": {},
   "outputs": [],
   "source": [
    "import webbrowser\n",
    "\n",
    "url = \"google.com\"\n",
    "\n",
    "webbrowser.open(url=url)"
   ]
  },
  {
   "cell_type": "code",
   "execution_count": null,
   "metadata": {},
   "outputs": [],
   "source": [
    "import webbrowser\n",
    "\n",
    "url = \"html.html\"\n",
    "\n",
    "with open(url, \"r\") as file:\n",
    "    html_file = file.read()\n",
    "\n",
    "webbrowser.open(\"data:text/html;\"+html_file)"
   ]
  },
  {
   "attachments": {},
   "cell_type": "markdown",
   "metadata": {},
   "source": [
    "https://www.geeksforgeeks.org/python-launch-a-web-browser-using-webbrowser-module/\n",
    "https://docs.python.org/3/library/webbrowser.html"
   ]
  },
  {
   "cell_type": "code",
   "execution_count": null,
   "metadata": {},
   "outputs": [],
   "source": [
    "import time\n",
    "\n",
    "now_time = time.localtime()\n",
    "now_time = time.strftime(\"%H:%M:%S\")\n",
    "now_time = time.strftime(\"%H:%M:%S\",now_time)\n",
    "print(now_time)"
   ]
  },
  {
   "cell_type": "code",
   "execution_count": null,
   "metadata": {},
   "outputs": [],
   "source": [
    "import time\n",
    "\n",
    "print(\"run\")\n",
    "time.sleep(5)\n",
    "print(\"stop\")"
   ]
  },
  {
   "cell_type": "code",
   "execution_count": null,
   "metadata": {},
   "outputs": [],
   "source": [
    "import time\n",
    "\n",
    "strat_time = time.time()\n",
    "\n",
    "# my code\n",
    "time.sleep(1)\n",
    "\n",
    "end_time = time.time()\n",
    "new_time = end_time - strat_time\n",
    "print(new_time)"
   ]
  },
  {
   "cell_type": "code",
   "execution_count": null,
   "metadata": {},
   "outputs": [],
   "source": [
    "import time\n",
    "\n",
    "now_time = time.localtime()\n",
    "now_time = time.strftime(\"%y-%m-%d %H:%M:%S\")\n",
    "# now_time = time.strftime(\"%H:%M:%S\",now_time)\n",
    "print(now_time)"
   ]
  },
  {
   "attachments": {},
   "cell_type": "markdown",
   "metadata": {},
   "source": [
    "https://pypi.org/project/pip/\n",
    "\n",
    "pip install requests"
   ]
  },
  {
   "cell_type": "code",
   "execution_count": null,
   "metadata": {},
   "outputs": [],
   "source": [
    "import requests\n",
    "\n",
    "response = requests.get(\"https://google.com\")\n",
    "print(response.content)"
   ]
  },
  {
   "cell_type": "code",
   "execution_count": 3,
   "metadata": {},
   "outputs": [],
   "source": [
    "import tkinter as tk\n",
    "\n",
    "window = tk.Tk()\n",
    "window.title(\"پنجره\")\n",
    "window.geometry(\"400x300\")\n",
    "window.mainloop()"
   ]
  },
  {
   "cell_type": "code",
   "execution_count": 3,
   "metadata": {},
   "outputs": [],
   "source": [
    "import tkinter as tk\n",
    "\n",
    "\n",
    "class Application(tk.Frame):\n",
    "    def __init__(self, master=None):\n",
    "        super().__init__(master)\n",
    "        self.master = master\n",
    "        self.pack()\n",
    "        self.create_widgets()\n",
    "\n",
    "    def create_widgets(self):\n",
    "        self.hi_there = tk.Button(self)\n",
    "        self.hi_there['text'] = \"salam\"\n",
    "        self.hi_there.pack(side=\"top\")\n",
    "\n",
    "\n",
    "root = tk.Tk()\n",
    "app = Application(master=root)\n",
    "# window.geometry(\"400x300\")\n",
    "app.mainloop()"
   ]
  },
  {
   "cell_type": "code",
   "execution_count": 6,
   "metadata": {},
   "outputs": [],
   "source": [
    "import tkinter as tk\n",
    "\n",
    "def cm_to_foot():\n",
    "    cm = float(entry.get())\n",
    "\n",
    "    # cm to foot\n",
    "\n",
    "    foot = cm / 32.8\n",
    "    out_label.config(text=str(foot))\n",
    "\n",
    "root = tk.Tk()\n",
    "\n",
    "input_label= tk.Label(root,text=\"سانتی متر:\")\n",
    "input_label.pack()\n",
    "entry = tk.Entry(root)\n",
    "entry.pack()\n",
    "button = tk.Button(root,text=\"تبدیل سانت به فوت\",command=cm_to_foot)\n",
    "button.pack()\n",
    "out_label= tk.Label(root,text=\"\")\n",
    "out_label.pack()\n",
    "app.mainloop()"
   ]
  },
  {
   "attachments": {},
   "cell_type": "markdown",
   "metadata": {},
   "source": [
    "https://realpython.com/pysimplegui-python/"
   ]
  },
  {
   "cell_type": "code",
   "execution_count": null,
   "metadata": {},
   "outputs": [],
   "source": [
    "\n",
    "import PySimpleGUI as sg\n",
    "\n",
    "layout = [[sg.Text(\"Hello from PySimpleGUI\")], [sg.Button(\"OK\"),sg.Button(\"By\")], [sg.Button(\"quit\")]]\n",
    "\n",
    "# Create the window\n",
    "window = sg.Window(\"Demo\", layout)\n",
    "\n",
    "# Create an event loop\n",
    "while True:\n",
    "    event, values = window.read()\n",
    "    # End program if user closes window or\n",
    "    # presses the OK button\n",
    "    if event == \"OK\" or event == sg.WIN_CLOSED:\n",
    "        break\n",
    "\n",
    "window.close()"
   ]
  }
 ],
 "metadata": {
  "kernelspec": {
   "display_name": "Python 3",
   "language": "python",
   "name": "python3"
  },
  "language_info": {
   "codemirror_mode": {
    "name": "ipython",
    "version": 3
   },
   "file_extension": ".py",
   "mimetype": "text/x-python",
   "name": "python",
   "nbconvert_exporter": "python",
   "pygments_lexer": "ipython3",
   "version": "3.10.11"
  },
  "orig_nbformat": 4
 },
 "nbformat": 4,
 "nbformat_minor": 2
}
