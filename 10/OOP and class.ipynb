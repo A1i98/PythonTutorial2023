{
 "cells": [
  {
   "cell_type": "code",
   "execution_count": null,
   "metadata": {},
   "outputs": [],
   "source": [
    "a = 10\n",
    "b = 20\n",
    "print(a + b)\n",
    "print(a.__add__(b))"
   ]
  },
  {
   "attachments": {},
   "cell_type": "markdown",
   "metadata": {},
   "source": [
    "__init__\n",
    "یک متد خاط که ویژگی و تنظیمات انجام میدهد"
   ]
  },
  {
   "attachments": {},
   "cell_type": "markdown",
   "metadata": {},
   "source": [
    "self\n",
    "یک پارامتر خاص در تعریف توابع کلاس"
   ]
  },
  {
   "cell_type": "code",
   "execution_count": null,
   "metadata": {},
   "outputs": [],
   "source": [
    "class Person:\n",
    "    def __init__(self,name,age):\n",
    "        self.name = name\n",
    "        self.age = age\n",
    "    def moarefi(self):\n",
    "        print(f\"اسم من {self.name} است و من {self.age} سال دارم\")\n",
    "\n",
    "my_person = Person(\"ali\",15)\n",
    "print(my_person.moarefi())\n",
    "\n",
    "print(my_person.name)\n",
    "print(my_person.age)\n"
   ]
  },
  {
   "cell_type": "code",
   "execution_count": null,
   "metadata": {},
   "outputs": [],
   "source": [
    "class Car:\n",
    "    def __init__(self,model,year,color):\n",
    "        self.model = model\n",
    "        self.year = year\n",
    "        self.color = color\n",
    "        self.Is_run = False\n",
    "\n",
    "    def start(self):\n",
    "        if not self.Is_run :\n",
    "            self.Is_run = True\n",
    "            print(\"mashin roshanshod\")\n",
    "        else:\n",
    "            print(\"mashin az gabl roshan ast\")\n",
    "\n",
    "    def stop(self):\n",
    "        if self.Is_run :\n",
    "            self.Is_run = False\n",
    "            print(\"mashin khamosh shod\")\n",
    "        else :\n",
    "            print(\"mashin az gabl khamosh bod\")\n",
    "\n",
    "my_car = Car(\"periad\",1390,\"red\")\n",
    "\n",
    "my_car.start()\n",
    "my_car.start()\n",
    "\n",
    "my_car.stop()\n",
    "my_car.stop()\n"
   ]
  },
  {
   "attachments": {},
   "cell_type": "markdown",
   "metadata": {},
   "source": [
    "class attributes\n",
    "ویژگی مشترک بین شی های یک کلاس"
   ]
  },
  {
   "cell_type": "code",
   "execution_count": null,
   "metadata": {},
   "outputs": [],
   "source": [
    "class Person:\n",
    "    count = 0\n",
    "\n",
    "    def __init__(self, name, age):\n",
    "        self.name = name\n",
    "        self.age = age\n",
    "        Person.count += 1\n",
    "\n",
    "    def moarefi(self):\n",
    "        print(f\"اسم من {self.name} است و من {self.age} سال دارم\")\n",
    "\n",
    "\n",
    "my_person_ali = Person(\"ali\", 15)\n",
    "my_person_reza = Person(\"reza\", 30)\n",
    "\n",
    "print(my_person_ali.moarefi())\n",
    "print(my_person_reza.moarefi())\n",
    "\n",
    "\n",
    "print(Person.count)\n"
   ]
  },
  {
   "cell_type": "code",
   "execution_count": null,
   "metadata": {},
   "outputs": [],
   "source": [
    "class Account:\n",
    "    def __init__(self,in_balance = 0 ) -> None:\n",
    "        self.balance = in_balance\n",
    "    def add_balance(self,amout):\n",
    "        self.balance+=amout\n",
    "\n",
    "    def remove(self,amout):\n",
    "        if self.balance >= amout:\n",
    "            self.balance-= amout\n",
    "            print(\"az hesab shoma kamshod\")\n",
    "\n",
    "        else:\n",
    "            print(\"mojodi shoma kafi nist\")\n",
    "\n",
    "    def display_balance(self):\n",
    "        print(\"mojodi shoma\",self.balance)"
   ]
  },
  {
   "cell_type": "code",
   "execution_count": null,
   "metadata": {},
   "outputs": [],
   "source": [
    "my_account = Account(200)\n",
    "\n",
    "my_account.display_balance()\n",
    "\n",
    "my_account.add_balance(50)\n",
    "\n",
    "my_account.display_balance()\n",
    "\n",
    "my_account.remove(80)\n",
    "\n",
    "my_account.display_balance()\n",
    "\n",
    "my_account.remove(200)\n",
    "\n",
    "my_account.display_balance()"
   ]
  },
  {
   "attachments": {},
   "cell_type": "markdown",
   "metadata": {},
   "source": [
    "تمرین\n",
    "یک برنامه بنویسید که 5 یا بیشتر وسیله را بشخ خریداری کرد و از حساب کار بر کم بشه\n",
    "قابلیت حذف وسیله وجود داشته باشد"
   ]
  },
  {
   "attachments": {},
   "cell_type": "markdown",
   "metadata": {},
   "source": [
    "staticmethod"
   ]
  },
  {
   "cell_type": "code",
   "execution_count": null,
   "metadata": {},
   "outputs": [],
   "source": [
    "import datetime\n",
    "class Account:\n",
    "    def __init__(self,in_balance = 0 ) -> None:\n",
    "        self.balance = in_balance\n",
    "    def add_balance(self,amout):\n",
    "        self.balance+=amout\n",
    "\n",
    "    def remove(self,amout):\n",
    "        if self.balance >= amout:\n",
    "            self.balance-= amout\n",
    "            print(\"az hesab shoma kamshod\")\n",
    "\n",
    "        else:\n",
    "            print(\"mojodi shoma kafi nist\")\n",
    "\n",
    "    def display_balance(self):\n",
    "        print(\"mojodi shoma\",self.balance)\n",
    "\n",
    "    @staticmethod\n",
    "    def display_time():\n",
    "        print(datetime.datetime.now())"
   ]
  },
  {
   "attachments": {},
   "cell_type": "markdown",
   "metadata": {},
   "source": [
    "super\n",
    "یک تابع که در کلاس های ارث بری استفاده میشه اجازه میده توابع و ویژگی ها منتقل بشن"
   ]
  },
  {
   "cell_type": "code",
   "execution_count": 22,
   "metadata": {},
   "outputs": [
    {
     "name": "stdout",
     "output_type": "stream",
     "text": [
      "اسم من ali است و\n",
      "None\n",
      "اسم من reza است و\n",
      "None\n",
      "2\n"
     ]
    }
   ],
   "source": [
    "class Person:\n",
    "    count = 0\n",
    "\n",
    "    def __init__(self, name, age):\n",
    "        self.name = name\n",
    "        self.age = age\n",
    "        Person.count += 1\n",
    "\n",
    "    def moarefi(self):\n",
    "        print(f\"اسم من {self.name} است و من {self.age} سال دارم\")\n",
    "\n",
    "class strudent(Person):\n",
    "    def __init__(self, name, age,shomareDaneshjo):\n",
    "        super().__init__(name,age)\n",
    "        self.shomareDaneshjo = shomareDaneshjo\n",
    "    def moarefi(self):\n",
    "        print(f\"اسم من {self.name} است و\")\n",
    "\n",
    "my_person_ali = strudent(\"ali\", \"15\",\"235\")\n",
    "my_person_reza = strudent(\"reza\", \"30\",\"234234\")\n",
    "\n",
    "print(my_person_ali.moarefi())\n",
    "print(my_person_reza.moarefi())\n",
    "\n",
    "\n",
    "print(Person.count)\n"
   ]
  }
 ],
 "metadata": {
  "kernelspec": {
   "display_name": "Python 3",
   "language": "python",
   "name": "python3"
  },
  "language_info": {
   "codemirror_mode": {
    "name": "ipython",
    "version": 3
   },
   "file_extension": ".py",
   "mimetype": "text/x-python",
   "name": "python",
   "nbconvert_exporter": "python",
   "pygments_lexer": "ipython3",
   "version": "3.10.11"
  },
  "orig_nbformat": 4
 },
 "nbformat": 4,
 "nbformat_minor": 2
}
