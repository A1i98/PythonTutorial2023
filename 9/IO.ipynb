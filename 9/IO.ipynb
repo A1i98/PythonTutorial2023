{
 "cells": [
  {
   "attachments": {},
   "cell_type": "markdown",
   "metadata": {},
   "source": [
    "IO\n",
    "آموزش کار با فایل"
   ]
  },
  {
   "cell_type": "code",
   "execution_count": null,
   "metadata": {},
   "outputs": [],
   "source": [
    "file = open(r\"C:\\Users\\Mr\\Desktop\\PythonTutorial2023\\9\\MyFile.txt\",\"r\")\n",
    "for line in file:\n",
    "    print(line)\n",
    "\n",
    "file.close()"
   ]
  },
  {
   "attachments": {},
   "cell_type": "markdown",
   "metadata": {},
   "source": [
    "https://stackoverflow.com/questions/1466000/difference-between-modes-a-a-w-w-and-r-in-built-in-open-function"
   ]
  },
  {
   "cell_type": "code",
   "execution_count": null,
   "metadata": {},
   "outputs": [],
   "source": [
    "file = open(r\"./4/MyFile.txt\",\"r\")\n",
    "for line in file:\n",
    "    print(line)\n",
    "\n",
    "file.close()"
   ]
  },
  {
   "cell_type": "code",
   "execution_count": null,
   "metadata": {},
   "outputs": [],
   "source": [
    "with open(r\"MyFile.txt\",\"r\") as file :\n",
    "    for line in file :\n",
    "        print(line)"
   ]
  },
  {
   "cell_type": "code",
   "execution_count": null,
   "metadata": {},
   "outputs": [],
   "source": [
    "with open(r\"MyFile.txt\",\"r\") as file :\n",
    "    data = file.readlines()\n",
    "print(data)\n",
    "for i in data:\n",
    "    print(i)"
   ]
  },
  {
   "cell_type": "code",
   "execution_count": null,
   "metadata": {},
   "outputs": [],
   "source": [
    "with open(r\"MyFile.txt\",\"r\") as file :\n",
    "    data = file.read()\n",
    "print(data)\n",
    "for i in data:\n",
    "    print(i)"
   ]
  },
  {
   "attachments": {},
   "cell_type": "markdown",
   "metadata": {},
   "source": [
    "writing"
   ]
  },
  {
   "cell_type": "code",
   "execution_count": null,
   "metadata": {},
   "outputs": [],
   "source": [
    "iran_cities = {\n",
    "    'Tehran': 'Tehran',\n",
    "    'Mashhad': 'Razavi Khorasan',\n",
    "    'Isfahan': 'Isfahan',\n",
    "    'Tabriz': 'East Azerbaijan',\n",
    "    'Shiraz': 'Fars',\n",
    "    'Karaj': 'Alborz',\n",
    "    'Qom': 'Qom',\n",
    "    'Ahvaz': 'Khuzestan',\n",
    "    'Kermanshah': 'Kermanshah'\n",
    "}\n",
    "\n",
    "with open(r\"iran_cities.txt\",\"w\") as file :\n",
    "    for i in iran_cities.values():\n",
    "        print(i,file=file)\n",
    "        # print(i,file=file,flush=True)"
   ]
  },
  {
   "cell_type": "code",
   "execution_count": null,
   "metadata": {},
   "outputs": [],
   "source": [
    "iran_cities = []\n",
    "with open(r\"iran_cities.txt\",\"r\") as file :\n",
    "    for i in file:\n",
    "        iran_cities.append(i.strip(\"\\n\"))\n",
    "\n",
    "print(iran_cities)"
   ]
  },
  {
   "cell_type": "code",
   "execution_count": null,
   "metadata": {},
   "outputs": [],
   "source": [
    "with open(r\"MyFile.txt\",\"r\") as file :\n",
    "    my_tuple = eval(file.read())\n",
    "    \n",
    "total = sum(my_tuple)\n",
    "print(total)\n"
   ]
  },
  {
   "cell_type": "code",
   "execution_count": null,
   "metadata": {},
   "outputs": [],
   "source": [
    "iran_cities = {\n",
    "    'Tehran': 'Tehran',\n",
    "    'Mashhad': 'Razavi Khorasan',\n",
    "    'Isfahan': 'Isfahan',\n",
    "    'Tabriz': 'East Azerbaijan',\n",
    "    'Shiraz': 'Fars',\n",
    "    'Karaj': 'Alborz',\n",
    "    'Qom': 'Qom',\n",
    "    'Ahvaz': 'Khuzestan',\n",
    "    'Kermanshah': 'Kermanshah'\n",
    "}\n",
    "\n",
    "with open(r\"iran_cities.txt\",\"a\") as file :\n",
    "    for i in iran_cities.values():\n",
    "        print(i,file=file)"
   ]
  },
  {
   "cell_type": "code",
   "execution_count": null,
   "metadata": {},
   "outputs": [],
   "source": [
    "import pickle\n",
    "import base64\n",
    "data = (1,2,3,4,5)\n",
    "\n",
    "with open(r\"iran_cities.pickle\",\"wb\") as file :\n",
    "    pickle.dump(data,file)"
   ]
  },
  {
   "cell_type": "code",
   "execution_count": null,
   "metadata": {},
   "outputs": [],
   "source": [
    "import pickle\n",
    "import base64\n",
    "\n",
    "\n",
    "with open(r\"iran_cities.pickle\",\"rb\") as file :\n",
    "    iran_cities = pickle.loads(file)\n",
    "    print(iran_cities)"
   ]
  },
  {
   "cell_type": "code",
   "execution_count": null,
   "metadata": {},
   "outputs": [],
   "source": [
    "import shelve\n",
    "\n",
    "iran_cities = {\n",
    "    'Tehran': 'Tehran',\n",
    "    'Mashhad': 'Razavi Khorasan',\n",
    "    'Isfahan': 'Isfahan',\n",
    "    'Tabriz': 'East Azerbaijan',\n",
    "    'Shiraz': 'Fars',\n",
    "    'Karaj': 'Alborz',\n",
    "    'Qom': 'Qom',\n",
    "    'Ahvaz': 'Khuzestan',\n",
    "    'Kermanshah': 'Kermanshah'\n",
    "}\n",
    "\n",
    "with shelve.open(\"iran_cities\") as db :\n",
    "    for key , item in iran_cities.items():\n",
    "        db[key] = item"
   ]
  },
  {
   "cell_type": "code",
   "execution_count": null,
   "metadata": {},
   "outputs": [],
   "source": [
    "with shelve.open(\"iran_cities\") as db :\n",
    "    for key , item in db.items():\n",
    "        print(key,item)"
   ]
  },
  {
   "cell_type": "code",
   "execution_count": null,
   "metadata": {},
   "outputs": [],
   "source": [
    "import shelve\n",
    "\n",
    "iran_cities = {\n",
    "    'Tehran': 'Tehran',\n",
    "    'Mashhad': 'Razavi Khorasan',\n",
    "    'Isfahan': 'Isfahan',\n",
    "    'Tabriz': 'East Azerbaijan',\n",
    "    'Shiraz': 'Fars',\n",
    "    'Karaj': 'Alborz',\n",
    "    'Qom': 'Qom',\n",
    "    'Ahvaz': 'Khuzestan',\n",
    "    'Kermanshah': 'Kermanshah'\n",
    "}\n",
    "\n",
    "my_set = {1,2,3,4,5,6,7,8,9}\n",
    "\n",
    "with shelve.open(\"mydata\") as db :\n",
    "    db[\"iran_cities\"] = iran_cities\n",
    "    db[\"my_set\"] = my_set"
   ]
  },
  {
   "cell_type": "code",
   "execution_count": null,
   "metadata": {},
   "outputs": [],
   "source": [
    "with shelve.open(\"mydata\") as db :\n",
    "    print(db[\"iran_cities\"])\n",
    "    print(db[\"my_set\"])"
   ]
  },
  {
   "cell_type": "code",
   "execution_count": null,
   "metadata": {},
   "outputs": [],
   "source": [
    "import shelve\n",
    "\n",
    "with shelve.open(\"user\") as db:\n",
    "    if 'user' in db:\n",
    "        user = db[\"user\"]\n",
    "    else:\n",
    "        user = {}\n",
    "\n",
    "    while True:\n",
    "        UserName = input(\"Plz enter user usernam:\")\n",
    "        UserPassword = input(\"Plz enter user password:\")\n",
    "        if UserName in user:\n",
    "            print(\"in username is already taken.\")\n",
    "\n",
    "        else:\n",
    "            user[UserName] =  UserPassword\n",
    "            db['user'] = user\n",
    "            print(f\"User {UserName} has been registered\")\n",
    "            break\n",
    "\n",
    "\n",
    "with shelve.open(\"user\") as db :\n",
    "    print(db[\"user\"])"
   ]
  },
  {
   "cell_type": "code",
   "execution_count": null,
   "metadata": {},
   "outputs": [],
   "source": [
    "import pickle\n",
    "\n",
    "data = [1,2,3,4,5]\n",
    "\n",
    "with open(\"data.txt\",\"wb\") as file :\n",
    "    pickle.dump(data,file)"
   ]
  },
  {
   "cell_type": "code",
   "execution_count": null,
   "metadata": {},
   "outputs": [],
   "source": [
    "import os\n",
    "\n",
    "def delete_file(filename):\n",
    "    try:\n",
    "      os.remove(filename)\n",
    "    except FileExistsError:\n",
    "        print(\"file not exist\")\n",
    "\n",
    "\n",
    "with open('datafile.txt', 'wb') as fh:\n",
    "   pickle.dump(delete_file, fh)"
   ]
  },
  {
   "cell_type": "code",
   "execution_count": null,
   "metadata": {},
   "outputs": [],
   "source": [
    "pickle_off = open (\"datafile.txt\", \"rb\")\n",
    "emp = pickle.load(pickle_off)\n",
    "print(emp(\"MyFile.txt\"))\n",
    "pickle_off.close()"
   ]
  }
 ],
 "metadata": {
  "kernelspec": {
   "display_name": "Python 3",
   "language": "python",
   "name": "python3"
  },
  "language_info": {
   "codemirror_mode": {
    "name": "ipython",
    "version": 3
   },
   "file_extension": ".py",
   "mimetype": "text/x-python",
   "name": "python",
   "nbconvert_exporter": "python",
   "pygments_lexer": "ipython3",
   "version": "3.10.11"
  },
  "orig_nbformat": 4
 },
 "nbformat": 4,
 "nbformat_minor": 2
}
