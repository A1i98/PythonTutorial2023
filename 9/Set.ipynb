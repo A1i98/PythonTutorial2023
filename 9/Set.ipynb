{
 "cells": [
  {
   "attachments": {},
   "cell_type": "markdown",
   "metadata": {},
   "source": [
    "Sets\n",
    "immutable\n",
    "{}\n",
    "مجموعه"
   ]
  },
  {
   "cell_type": "code",
   "execution_count": null,
   "metadata": {},
   "outputs": [],
   "source": [
    "my_set = {1,2,3,4,5}\n",
    "for i in my_set:\n",
    "    print(i)"
   ]
  },
  {
   "cell_type": "code",
   "execution_count": null,
   "metadata": {},
   "outputs": [],
   "source": [
    "my_set = {1,2,3,4,5}\n",
    "if 3 in my_set:\n",
    "    print(\"hast\")"
   ]
  },
  {
   "cell_type": "code",
   "execution_count": null,
   "metadata": {},
   "outputs": [],
   "source": [
    "iran_cities = {\"تهران\", \"اصفهان\", \"شیراز\", \"مشهد\", \"تبریز\", \"اهواز\", \"کرج\", \"قم\", \"کرمان\"}\n",
    "for i in iran_cities:\n",
    "    print(i)"
   ]
  },
  {
   "cell_type": "code",
   "execution_count": null,
   "metadata": {},
   "outputs": [],
   "source": [
    "iran_cities_sets = {\"تهران\", \"اصفهان\", \"شیراز\", \"مشهد\", \"تبریز\", \"اهواز\", \"کرج\", \"قم\", \"کرمان\"}\n",
    "iran_cities_list = [\"تهران\", \"اصفهان\", \"شیراز\", \"مشهد\", \"تبریز\", \"اهواز\", \"کرج\", \"قم\", \"کرمان\"]\n",
    "\n",
    "print(iran_cities_sets[0])\n",
    "print(iran_cities_list[0])"
   ]
  },
  {
   "cell_type": "code",
   "execution_count": null,
   "metadata": {},
   "outputs": [],
   "source": [
    "iran_cities_sets = {\"تهران\", \"اصفهان\", \"شیراز\", \"مشهد\", \"تبریز\", \"اهواز\", \"کرج\", \"قم\", \"کرمان\"}\n",
    "iran_cities_sets2 = {\"تهران\", \"اصفهان\",\"کرمان\", \"شیراز\", \"مشهد\", \"تبریز\", \"اهواز\", \"کرج\", \"قم\"}\n",
    "\n",
    "print(iran_cities == iran_cities_sets2)"
   ]
  },
  {
   "cell_type": "code",
   "execution_count": null,
   "metadata": {},
   "outputs": [],
   "source": [
    "print(set(\"123455\"))\n",
    "print(list(\"123455\"))\n",
    "print(set(range(0,20,2)))"
   ]
  },
  {
   "attachments": {},
   "cell_type": "markdown",
   "metadata": {},
   "source": [
    "add\n",
    "remove"
   ]
  },
  {
   "cell_type": "code",
   "execution_count": null,
   "metadata": {},
   "outputs": [],
   "source": [
    "my_set = {1,2,3,4,5}\n",
    "my_set.add(6)\n",
    "my_set.remove(2)\n",
    "\n",
    "my_set.discard(7)\n",
    "\n",
    "print(my_set)"
   ]
  },
  {
   "cell_type": "code",
   "execution_count": null,
   "metadata": {},
   "outputs": [],
   "source": [
    "num = set()\n",
    "while len(num) < 5 :\n",
    "    data = int(input(\"sned me data\"))\n",
    "    print(data)\n",
    "    num.add(data)\n",
    "\n",
    "print(num)"
   ]
  }
 ],
 "metadata": {
  "kernelspec": {
   "display_name": "Python 3",
   "language": "python",
   "name": "python3"
  },
  "language_info": {
   "codemirror_mode": {
    "name": "ipython",
    "version": 3
   },
   "file_extension": ".py",
   "mimetype": "text/x-python",
   "name": "python",
   "nbconvert_exporter": "python",
   "pygments_lexer": "ipython3",
   "version": "3.10.11"
  },
  "orig_nbformat": 4
 },
 "nbformat": 4,
 "nbformat_minor": 2
}
