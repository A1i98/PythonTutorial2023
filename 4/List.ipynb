{
 "cells": [
  {
   "attachments": {},
   "cell_type": "markdown",
   "metadata": {},
   "source": [
    "list"
   ]
  },
  {
   "cell_type": "code",
   "execution_count": null,
   "metadata": {},
   "outputs": [],
   "source": [
    "matn = \"iran the kjjfdg\"\n",
    "print(matn[0])\n",
    "print(matn[3:8])\n",
    "print(matn[:])"
   ]
  },
  {
   "cell_type": "code",
   "execution_count": null,
   "metadata": {},
   "outputs": [],
   "source": [
    "danshjo = [\"ali\",\"mamad\",\"hossin\",\"agareza\"]\n",
    "for name in danshjo:\n",
    "    print(name)"
   ]
  },
  {
   "cell_type": "code",
   "execution_count": null,
   "metadata": {},
   "outputs": [],
   "source": [
    "print(danshjo[0])\n",
    "print(danshjo[1])\n",
    "\n",
    "print(danshjo[1:3])\n",
    "print(danshjo[-1])"
   ]
  },
  {
   "attachments": {},
   "cell_type": "markdown",
   "metadata": {},
   "source": [
    "sequence\n",
    "immutable - mutable\n",
    "immutable\n",
    "\n",
    "int float bool string tuple frozenset byte\n",
    "id - identity\n",
    "https://docs.python.org/3/library/functions.html"
   ]
  },
  {
   "cell_type": "code",
   "execution_count": null,
   "metadata": {},
   "outputs": [],
   "source": [
    "result = True\n",
    "result_2 = result\n",
    "print(id(result))\n",
    "print(id(result_2))\n",
    "\n",
    "result = False\n",
    "print(id(result))"
   ]
  },
  {
   "cell_type": "code",
   "execution_count": null,
   "metadata": {},
   "outputs": [],
   "source": [
    "result = \"ali\"\n",
    "result_2 = result\n",
    "print(id(result))\n",
    "print(id(result_2))\n",
    "\n",
    "result = 'Hossin'\n",
    "print(id(result))"
   ]
  },
  {
   "attachments": {},
   "cell_type": "markdown",
   "metadata": {},
   "source": [
    "mutable 4\n",
    "list dict set Bytearray"
   ]
  },
  {
   "cell_type": "code",
   "execution_count": null,
   "metadata": {},
   "outputs": [],
   "source": [
    "danshjo = [\"ali\",\"mamad\",\"hossin\",\"agareza\"]\n",
    "danshjo_2 = danshjo\n",
    "print(id(danshjo))\n",
    "print(id(danshjo_2))\n",
    "danshjo += \"amir\"\n",
    "print(id(danshjo))\n",
    "print(id(danshjo_2))"
   ]
  },
  {
   "cell_type": "code",
   "execution_count": null,
   "metadata": {},
   "outputs": [],
   "source": [
    "danshjo = [\"ali\",\"mamad\",\"hossin\",\"agareza\"]\n",
    "a = b = c = d = danshjo\n",
    "print(a)\n",
    "\n",
    "b += \"a\"\n",
    "\n",
    "print(c)\n",
    "print(d)"
   ]
  },
  {
   "cell_type": "code",
   "execution_count": null,
   "metadata": {},
   "outputs": [],
   "source": [
    "zoj = [2,4,6,8]\n",
    "fard = [1,3,5,7,9]\n",
    "#min\n",
    "#max\n",
    "\n",
    "# print(min(zoj))\n",
    "# print(max(zoj))\n",
    "# print(min(fard))\n",
    "# print(max(fard))\n",
    "\n",
    "#len\n",
    "print(len(zoj))\n",
    "print(len(fard))\n",
    "\n",
    "print(len(\"ali va reza\"))\n",
    "print(\"ali va reza\".count(\"a\"))"
   ]
  },
  {
   "cell_type": "code",
   "execution_count": null,
   "metadata": {},
   "outputs": [],
   "source": [
    "user_input = \"\"\n",
    "buy_List = []\n",
    "while user_input != \"0\":\n",
    "    if user_input in \"123\":\n",
    "        print(f\"add {user_input} to buy list\")\n",
    "        if user_input == \"1\":\n",
    "            buy_List.append(\"sib\")\n",
    "        elif user_input == \"2\":\n",
    "            buy_List.append(\"moz\")\n",
    "        elif user_input == \"3\":\n",
    "            buy_List.append(\"goje\")\n",
    "    else:\n",
    "        print(\"ente khab khonid az list:\")  \n",
    "        print(\"1 sib\")        \n",
    "        print(\"2 moz\") \n",
    "        print(\"3 goje\")  \n",
    "\n",
    "    user_input = input()\n",
    "print(buy_List)         \n"
   ]
  },
  {
   "cell_type": "code",
   "execution_count": null,
   "metadata": {},
   "outputs": [],
   "source": [
    "user_input = \"_\"\n",
    "buy_List = []\n",
    "list_forosh = [\"sib\",\"moz\",\"goje\"]\n",
    "while user_input != \"0\":\n",
    "    if user_input in \"123\":\n",
    "        print(f\"add {user_input} to buy list\")\n",
    "        if user_input == \"1\":\n",
    "            buy_List.append(\"sib\")\n",
    "        elif user_input == \"2\":\n",
    "            buy_List.append(\"moz\")\n",
    "        elif user_input == \"3\":\n",
    "            buy_List.append(\"goje\")\n",
    "    else:\n",
    "        print(\"ente khab khonid az list:\")  \n",
    "        for index,item in enumerate(list_forosh):\n",
    "            print(index+1,item)\n",
    "\n",
    "    user_input = input()\n",
    "print(buy_List)         \n"
   ]
  },
  {
   "attachments": {},
   "cell_type": "markdown",
   "metadata": {},
   "source": [
    "تمرین کد بالا را بهتر کنید "
   ]
  },
  {
   "attachments": {},
   "cell_type": "markdown",
   "metadata": {},
   "source": [
    "append \n",
    "remove del pop"
   ]
  },
  {
   "cell_type": "code",
   "execution_count": 29,
   "metadata": {},
   "outputs": [
    {
     "name": "stdout",
     "output_type": "stream",
     "text": [
      "[1, 3, 4, 5]\n"
     ]
    }
   ],
   "source": [
    "my_list = [1,2,3,4,5]\n",
    "my_list.pop(1)\n",
    "print(my_list)"
   ]
  },
  {
   "cell_type": "code",
   "execution_count": 30,
   "metadata": {},
   "outputs": [
    {
     "name": "stdout",
     "output_type": "stream",
     "text": [
      "[1, 3, 4, 5]\n"
     ]
    }
   ],
   "source": [
    "my_list = [1,2,3,4,5]\n",
    "del my_list[1]\n",
    "print(my_list)"
   ]
  },
  {
   "cell_type": "code",
   "execution_count": 32,
   "metadata": {},
   "outputs": [
    {
     "name": "stdout",
     "output_type": "stream",
     "text": [
      "[1, 3, 4, 5]\n"
     ]
    }
   ],
   "source": [
    "my_list = [1,2,3,4,5]\n",
    "my_list.remove(2)\n",
    "print(my_list)"
   ]
  }
 ],
 "metadata": {
  "kernelspec": {
   "display_name": "Python 3",
   "language": "python",
   "name": "python3"
  },
  "language_info": {
   "codemirror_mode": {
    "name": "ipython",
    "version": 3
   },
   "file_extension": ".py",
   "mimetype": "text/x-python",
   "name": "python",
   "nbconvert_exporter": "python",
   "pygments_lexer": "ipython3",
   "version": "3.10.11"
  },
  "orig_nbformat": 4
 },
 "nbformat": 4,
 "nbformat_minor": 2
}
