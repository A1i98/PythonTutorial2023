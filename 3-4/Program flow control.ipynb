{
 "cells": [
  {
   "attachments": {},
   "cell_type": "markdown",
   "metadata": {},
   "source": [
    "Program Flow Control"
   ]
  },
  {
   "cell_type": "code",
   "execution_count": null,
   "metadata": {},
   "outputs": [],
   "source": [
    "name = input(\"plz enter your name:\")\n",
    "age = int(input(\"plz enter your name:\"))\n",
    "\n",
    "if age < 18:\n",
    "    print(\"shoma be sene ganoni naresidid\")\n",
    "    print(\"badan talash konid\")\n",
    "else:\n",
    "    print(\"shoma mitonid ranandegi konid\")"
   ]
  },
  {
   "attachments": {},
   "cell_type": "markdown",
   "metadata": {},
   "source": [
    "elif"
   ]
  },
  {
   "cell_type": "code",
   "execution_count": null,
   "metadata": {},
   "outputs": [],
   "source": [
    "age = 1500\n",
    "if age < 18:\n",
    "    print(\"shoma be sene ganoni naresidid\")\n",
    "    print(\"badan talash konid\")\n",
    "elif age > 100:\n",
    "    print(\"shoma senet khili balas\")\n",
    "elif age > 1000:\n",
    "    print(\"shoma fosil shodid\")\n",
    "else:\n",
    "    print(\"shoma mitonid ranandegi konid\")"
   ]
  },
  {
   "cell_type": "code",
   "execution_count": null,
   "metadata": {},
   "outputs": [],
   "source": [
    "moadel = 20\n",
    "if moadel < 10:\n",
    "    print(\"shoma be daftar moraje konid\")\n",
    "elif moadel < 12:\n",
    "    print(\"shoma mashrotid\")\n",
    "elif moadel >17 :\n",
    "    print(\"moadel alphe shodi\")\n",
    "    if moadel == 20 :\n",
    "        print(\"shoma jaize dari\")"
   ]
  },
  {
   "attachments": {},
   "cell_type": "markdown",
   "metadata": {},
   "source": [
    ">\n",
    "<\n",
    ">=\n",
    "<=\n",
    "==\n",
    "!="
   ]
  },
  {
   "attachments": {},
   "cell_type": "markdown",
   "metadata": {},
   "source": [
    "Condition"
   ]
  },
  {
   "cell_type": "code",
   "execution_count": null,
   "metadata": {},
   "outputs": [],
   "source": [
    "age = 100\n",
    "if age >= 18 and age <= 72:\n",
    "    print(\"sar kar movafag mashid\")"
   ]
  },
  {
   "cell_type": "code",
   "execution_count": null,
   "metadata": {},
   "outputs": [],
   "source": [
    "age = 100\n",
    "if age >= 18 or age <= 72:\n",
    "    print(\"sar kar movafag mashid\")"
   ]
  },
  {
   "cell_type": "code",
   "execution_count": null,
   "metadata": {},
   "outputs": [],
   "source": [
    "age = 25\n",
    "if  18 >= age <= 72:\n",
    "    print(\"sar kar movafag mashid\")"
   ]
  },
  {
   "attachments": {},
   "cell_type": "markdown",
   "metadata": {},
   "source": [
    "boolean expression"
   ]
  },
  {
   "cell_type": "code",
   "execution_count": null,
   "metadata": {},
   "outputs": [],
   "source": [
    "name = \"ali\"\n",
    "age = 17\n",
    "# is_form_iran = False\n",
    "is_form_iran = True\n",
    "\n",
    "if (name == \"ali\" and age > 19) or is_form_iran:\n",
    "    print(\"salam ali\")"
   ]
  },
  {
   "cell_type": "code",
   "execution_count": null,
   "metadata": {},
   "outputs": [],
   "source": [
    "if 1 :\n",
    "    print(\"true\")\n",
    "else:\n",
    "    print(\"false\")"
   ]
  },
  {
   "cell_type": "code",
   "execution_count": null,
   "metadata": {},
   "outputs": [],
   "source": [
    "name = input(\"your name:\")\n",
    "if name == \"\":\n",
    "    print(\"eshtebah varred kardi\")"
   ]
  },
  {
   "attachments": {},
   "cell_type": "markdown",
   "metadata": {},
   "source": [
    "in , not in"
   ]
  },
  {
   "cell_type": "code",
   "execution_count": null,
   "metadata": {},
   "outputs": [],
   "source": [
    "path = \"iran tehran\"\n",
    "if \"iran\" in path:\n",
    "    print(\"masir shoma gabol ast\")"
   ]
  },
  {
   "cell_type": "code",
   "execution_count": null,
   "metadata": {},
   "outputs": [],
   "source": [
    "path = \"USA new york\"\n",
    "if \"iran\" not in path:\n",
    "    print(\"masir kharej az iran gabol nist\")"
   ]
  },
  {
   "attachments": {},
   "cell_type": "markdown",
   "metadata": {},
   "source": [
    "for loop"
   ]
  },
  {
   "cell_type": "code",
   "execution_count": null,
   "metadata": {},
   "outputs": [],
   "source": [
    "text = \"dfjsldklkl3248989\"\n",
    "# numbers_char = \"0123456789\"\n",
    "number = \"\"\n",
    "for char in text:\n",
    "    # print(char)\n",
    "    # if char in numbers_char :\n",
    "    if char.isnumeric():\n",
    "        number = number + char\n",
    "print(number)"
   ]
  },
  {
   "attachments": {},
   "cell_type": "markdown",
   "metadata": {},
   "source": [
    "range class"
   ]
  },
  {
   "cell_type": "code",
   "execution_count": null,
   "metadata": {},
   "outputs": [],
   "source": [
    "for i in range(20):\n",
    "    print(\"i is {0}\".format(i))"
   ]
  },
  {
   "cell_type": "code",
   "execution_count": null,
   "metadata": {},
   "outputs": [],
   "source": [
    "for i in range(6,21):\n",
    "    print(\"i is {0}\".format(i))"
   ]
  },
  {
   "cell_type": "code",
   "execution_count": null,
   "metadata": {},
   "outputs": [],
   "source": [
    "for i in range(0,20,3):\n",
    "    print(\"i is {0}\".format(i))"
   ]
  },
  {
   "cell_type": "code",
   "execution_count": null,
   "metadata": {},
   "outputs": [],
   "source": [
    "for i in range(20,0,-2):\n",
    "    print(\"i is {0}\".format(i))"
   ]
  },
  {
   "cell_type": "code",
   "execution_count": null,
   "metadata": {},
   "outputs": [],
   "source": [
    "age = 29\n",
    "if age in range(18,72):\n",
    "    print(\"sar kar movasfag bashid\")"
   ]
  },
  {
   "attachments": {},
   "cell_type": "markdown",
   "metadata": {},
   "source": [
    "Nested for loop"
   ]
  },
  {
   "cell_type": "code",
   "execution_count": null,
   "metadata": {},
   "outputs": [],
   "source": [
    "for i in range(1,11):\n",
    "    for j in range(1,11):\n",
    "        print(\"{0} * {1} = {2}\".format(i,j,i*j))\n",
    "    print(\"-\"*50)    "
   ]
  },
  {
   "attachments": {},
   "cell_type": "markdown",
   "metadata": {},
   "source": [
    "continue"
   ]
  },
  {
   "cell_type": "code",
   "execution_count": null,
   "metadata": {},
   "outputs": [],
   "source": [
    "abc = \"a!bcdefgh!ijklmnopqrstu!v!wxyz\"\n",
    "for char in abc:\n",
    "    if char != \"!\":\n",
    "        print(char)"
   ]
  },
  {
   "cell_type": "code",
   "execution_count": null,
   "metadata": {},
   "outputs": [],
   "source": [
    "abc = \"a!bcdefgh!ijklmnopqrstu!v!wxyz\"\n",
    "for char in abc:\n",
    "    if char == \"!\":\n",
    "        continue\n",
    "    print(char)"
   ]
  },
  {
   "attachments": {},
   "cell_type": "markdown",
   "metadata": {},
   "source": [
    "break"
   ]
  },
  {
   "cell_type": "code",
   "execution_count": null,
   "metadata": {},
   "outputs": [],
   "source": [
    "abc = \"a!bcdefghijklmnopqrstuvwxyz\"\n",
    "char_to_find = \"!\"\n",
    "found_at = 0\n",
    "for index in range(len(abc)):\n",
    "    if abc[index] == char_to_find:\n",
    "        found_at = index\n",
    "        break\n",
    "print(found_at)"
   ]
  },
  {
   "cell_type": "code",
   "execution_count": 54,
   "metadata": {},
   "outputs": [
    {
     "name": "stdout",
     "output_type": "stream",
     "text": [
      "1\n"
     ]
    }
   ],
   "source": [
    "abc = \"a!bcdefghi!jklmnopqrstuvwxyz\"\n",
    "char_to_find = \"!\"\n",
    "index = abc.index(char_to_find)\n",
    "print(index)"
   ]
  },
  {
   "attachments": {},
   "cell_type": "markdown",
   "metadata": {},
   "source": [
    "تمرین برنامه ای بنویسید که متنی رو از کاربر دریافت و با استفاده از دستور فور برعکس ان را به کاربر نشان دهید"
   ]
  }
 ],
 "metadata": {
  "kernelspec": {
   "display_name": "Python 3",
   "language": "python",
   "name": "python3"
  },
  "language_info": {
   "codemirror_mode": {
    "name": "ipython",
    "version": 3
   },
   "file_extension": ".py",
   "mimetype": "text/x-python",
   "name": "python",
   "nbconvert_exporter": "python",
   "pygments_lexer": "ipython3",
   "version": "3.10.11"
  },
  "orig_nbformat": 4
 },
 "nbformat": 4,
 "nbformat_minor": 2
}
