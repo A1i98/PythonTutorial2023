{
 "cells": [
  {
   "attachments": {},
   "cell_type": "markdown",
   "metadata": {},
   "source": [
    "sort"
   ]
  },
  {
   "cell_type": "code",
   "execution_count": null,
   "metadata": {},
   "outputs": [],
   "source": [
    "fard = [1,3,5,7,9]\n",
    "zoj = [2,4,6,8]\n",
    "num = []\n",
    "\n",
    "for i in zoj:\n",
    "    num.append(i)\n",
    "\n",
    "for i in fard:\n",
    "    num.append(i)\n",
    "\n",
    "print(num)\n",
    "num.sort()\n",
    "print(num)"
   ]
  },
  {
   "cell_type": "code",
   "execution_count": null,
   "metadata": {},
   "outputs": [],
   "source": [
    "names=[\"moham\",\"ali\",\"hossin\"]\n",
    "names.sort()\n",
    "print(names)"
   ]
  },
  {
   "attachments": {},
   "cell_type": "markdown",
   "metadata": {},
   "source": [
    "extend"
   ]
  },
  {
   "cell_type": "code",
   "execution_count": null,
   "metadata": {},
   "outputs": [],
   "source": [
    "fard = [1,3,5,7,9]\n",
    "zoj = [2,4,6,8]\n",
    "num = []\n",
    "\n",
    "num.extend(zoj)\n",
    "num.extend(fard)\n",
    "\n",
    "print(num)\n",
    "num.sort()\n",
    "\n",
    "# num.sort(reverse=True)\n",
    "print(num[::-1])"
   ]
  },
  {
   "attachments": {},
   "cell_type": "markdown",
   "metadata": {},
   "source": [
    "sorted"
   ]
  },
  {
   "cell_type": "code",
   "execution_count": null,
   "metadata": {},
   "outputs": [],
   "source": [
    "fard = [1, 3, 5, 7, 9]\n",
    "zoj = [2, 4, 6, 8]\n",
    "num = []\n",
    "\n",
    "num.extend(zoj)\n",
    "num.extend(fard)\n",
    "\n",
    "print(num)\n",
    "sorted_num = sorted(num)\n",
    "sorted(num)\n",
    "print(num)"
   ]
  },
  {
   "cell_type": "code",
   "execution_count": null,
   "metadata": {},
   "outputs": [],
   "source": [
    "names = [\"moham\",\"ali\",\"hossin\",\"reza\",\"Alireza\",\"Reza\",\"tam\"]\n",
    "names.sort(key=str.casefold)\n",
    "print(names)"
   ]
  },
  {
   "attachments": {},
   "cell_type": "markdown",
   "metadata": {},
   "source": [
    "==\n",
    "is"
   ]
  },
  {
   "cell_type": "code",
   "execution_count": null,
   "metadata": {},
   "outputs": [],
   "source": [
    "fard = [1, 3, 5, 7, 9]\n",
    "zoj = [2, 4, 6, 8]\n",
    "\n",
    "# nume = list(\"123456789\")\n",
    "# print(nume)\n",
    "num = zoj + fard\n",
    "print(num)\n",
    "\n",
    "zoj.extend(fard)\n",
    "print(zoj)\n",
    "\n",
    "print(zoj == num)\n",
    "num = zoj\n",
    "print(zoj is num)\n",
    "num += \"2\"\n",
    "print(zoj)"
   ]
  },
  {
   "cell_type": "code",
   "execution_count": null,
   "metadata": {},
   "outputs": [],
   "source": [
    "names = [\"moham\",\"ali\",\"hossin\",\"reza\",\"Alireza\",\"Reza\",\"tam\"]\n",
    "print(names)\n",
    "print(names[1])\n",
    "names[1] = \"erfan\"\n",
    "print(names)\n",
    "names[1:] = \"erfan\"\n",
    "print(names)\n",
    "names[1:] = [\"erfan\"]\n",
    "print(names)"
   ]
  },
  {
   "cell_type": "code",
   "execution_count": 54,
   "metadata": {},
   "outputs": [
    {
     "name": "stdout",
     "output_type": "stream",
     "text": [
      "[213, 123, 123, 214]\n"
     ]
    }
   ],
   "source": [
    "data = [35,54,213,346,123,123,432,543,12,324,12,214]\n",
    "\n",
    "# del data[3]\n",
    "# del data[3:]\n",
    "# del data[3:4:6]\n",
    "max_num = 250\n",
    "min_num = 100\n",
    "\n",
    "# for index,item in re(data,1,-1):\n",
    "#     if (item < min_num) or (item > max_num):\n",
    "#         # del data[index]\n",
    "#         data.pop(index)\n",
    "#         data.remove(item)\n",
    "\n",
    "# print(data)\n",
    "\n",
    "new_data = []\n",
    "\n",
    "for item in data:\n",
    "    if (item > min_num) and (item < max_num):\n",
    "        new_data.insert(len(new_data),item)\n",
    "\n",
    "print(new_data)"
   ]
  },
  {
   "attachments": {},
   "cell_type": "markdown",
   "metadata": {},
   "source": [
    "کدی بزنید که با استفاده از تمرین\n",
    "del\n",
    "ایتم هارو حذف کنه"
   ]
  },
  {
   "attachments": {},
   "cell_type": "markdown",
   "metadata": {},
   "source": [
    "nested list"
   ]
  },
  {
   "cell_type": "code",
   "execution_count": null,
   "metadata": {},
   "outputs": [],
   "source": [
    "fard = [1, 3, 5, 7, 9]\n",
    "zoj = [2, 4, 6, 8]\n",
    "\n",
    "num = [fard,zoj]\n",
    "\n",
    "# print(num)\n",
    "\n",
    "for list in num:\n",
    "    for i in list :\n",
    "        print(\"number\",i,end=\" \",sep=\"\")\n",
    "    print()"
   ]
  },
  {
   "cell_type": "code",
   "execution_count": null,
   "metadata": {},
   "outputs": [],
   "source": [
    "print(num,sep=\" \",end = \" \")\n",
    "print(num,sep=\" \",end = \" \")"
   ]
  },
  {
   "attachments": {},
   "cell_type": "markdown",
   "metadata": {},
   "source": [
    "join"
   ]
  },
  {
   "cell_type": "code",
   "execution_count": 48,
   "metadata": {},
   "outputs": [
    {
     "name": "stdout",
     "output_type": "stream",
     "text": [
      "moham ali hossin reza Alireza Reza tam\n"
     ]
    }
   ],
   "source": [
    "names = [\"moham\",\"ali\",\"hossin\",\"reza\",\"Alireza\",\"Reza\",\"tam\"]\n",
    "separator = \" \"\n",
    "print(separator.join(names))"
   ]
  },
  {
   "cell_type": "code",
   "execution_count": 49,
   "metadata": {},
   "outputs": [
    {
     "name": "stdout",
     "output_type": "stream",
     "text": [
      "moham,ali,hossin,reza,Alireza,Reza,tam\n"
     ]
    }
   ],
   "source": [
    "names = [\"moham\",\"ali\",\"hossin\",\"reza\",\"Alireza\",\"Reza\",\"tam\"]\n",
    "separator = \",\"\n",
    "print(separator.join(names))"
   ]
  },
  {
   "attachments": {},
   "cell_type": "markdown",
   "metadata": {},
   "source": [
    "split"
   ]
  },
  {
   "cell_type": "code",
   "execution_count": 51,
   "metadata": {},
   "outputs": [
    {
     "name": "stdout",
     "output_type": "stream",
     "text": [
      "['ali', 'az', 'danshgah']\n",
      "['', 'li ', 'z d', 'nshg', 'h']\n"
     ]
    }
   ],
   "source": [
    "text = \"ali az danshgah\"\n",
    "print(text.split())\n",
    "print(text.split(\"a\"))\n"
   ]
  }
 ],
 "metadata": {
  "kernelspec": {
   "display_name": "Python 3",
   "language": "python",
   "name": "python3"
  },
  "language_info": {
   "codemirror_mode": {
    "name": "ipython",
    "version": 3
   },
   "file_extension": ".py",
   "mimetype": "text/x-python",
   "name": "python",
   "nbconvert_exporter": "python",
   "pygments_lexer": "ipython3",
   "version": "3.10.11"
  },
  "orig_nbformat": 4
 },
 "nbformat": 4,
 "nbformat_minor": 2
}
