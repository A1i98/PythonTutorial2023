{
 "cells": [
  {
   "cell_type": "code",
   "execution_count": null,
   "metadata": {},
   "outputs": [],
   "source": [
    "iran_cities = {\n",
    "    'Tehran': 'Tehran',\n",
    "    'Mashhad': 'Razavi Khorasan',\n",
    "    'Isfahan': 'Isfahan',\n",
    "    'Tabriz': 'East Azerbaijan',\n",
    "    'Shiraz': 'Fars',\n",
    "    'Karaj': 'Alborz',\n",
    "    'Qom': 'Qom',\n",
    "    'Ahvaz': 'Khuzestan',\n",
    "    'Kermanshah': 'Kermanshah'\n",
    "}"
   ]
  }
 ],
 "metadata": {
  "kernelspec": {
   "display_name": "Python 3",
   "language": "python",
   "name": "python3"
  },
  "language_info": {
   "name": "python",
   "version": "3.10.11"
  },
  "orig_nbformat": 4
 },
 "nbformat": 4,
 "nbformat_minor": 2
}
