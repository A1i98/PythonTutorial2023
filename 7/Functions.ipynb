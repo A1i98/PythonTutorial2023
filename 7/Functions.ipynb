{
 "cells": [
  {
   "attachments": {},
   "cell_type": "markdown",
   "metadata": {},
   "source": [
    "Functions"
   ]
  },
  {
   "cell_type": "code",
   "execution_count": null,
   "metadata": {},
   "outputs": [],
   "source": [
    "print()"
   ]
  },
  {
   "cell_type": "code",
   "execution_count": null,
   "metadata": {},
   "outputs": [],
   "source": [
    "def multiply():\n",
    "    javab = 10*25\n",
    "    return javab\n",
    "\n",
    "result=multiply()\n",
    "print(result)"
   ]
  },
  {
   "cell_type": "code",
   "execution_count": null,
   "metadata": {},
   "outputs": [],
   "source": [
    "def multiply(x,y):\n",
    "    javab = x*y\n",
    "    return javab\n",
    "\n",
    "result = multiply(10,25)\n",
    "print(result)"
   ]
  },
  {
   "cell_type": "code",
   "execution_count": null,
   "metadata": {},
   "outputs": [],
   "source": [
    "def multiply(x,y):\n",
    "    javab = x*y\n",
    "    return javab\n",
    "\n",
    "times = 4\n",
    "for i in range(1,11):\n",
    "    print(multiply(times,i))"
   ]
  },
  {
   "cell_type": "code",
   "execution_count": null,
   "metadata": {},
   "outputs": [],
   "source": [
    "print(\"*\" * (20+1))"
   ]
  },
  {
   "cell_type": "code",
   "execution_count": null,
   "metadata": {},
   "outputs": [],
   "source": [
    "def PrintStars(rows):\n",
    "    for row in range(rows):\n",
    "        stars = \"*\" * (row+1)\n",
    "        print(stars.center(rows*2-1))\n",
    "PrintStars(5) \n",
    "PrintStars(10)    "
   ]
  },
  {
   "attachments": {},
   "cell_type": "markdown",
   "metadata": {},
   "source": [
    "فیبوناچی"
   ]
  },
  {
   "cell_type": "code",
   "execution_count": null,
   "metadata": {},
   "outputs": [],
   "source": [
    "def fibonacci(n):\n",
    "    if n <=1:\n",
    "        return n\n",
    "\n",
    "    return fibonacci(n-1) + fibonacci(n-2)\n",
    "\n",
    "print(fibonacci(10))"
   ]
  },
  {
   "attachments": {},
   "cell_type": "markdown",
   "metadata": {},
   "source": [
    "کدی بنویسد برای فیبوناچی بدون استفاده از صدا زدن فانکشن داخل خود"
   ]
  },
  {
   "cell_type": "code",
   "execution_count": null,
   "metadata": {},
   "outputs": [],
   "source": [
    "def multiply(x:int,y:int) -> str:\n",
    "    javab = x*y\n",
    "    return str(javab) + \" javab shoma\"\n",
    "multiply(10,\"fdf\")"
   ]
  },
  {
   "cell_type": "code",
   "execution_count": null,
   "metadata": {},
   "outputs": [],
   "source": [
    "print('\\033[41m'+\"salam\")"
   ]
  },
  {
   "attachments": {},
   "cell_type": "markdown",
   "metadata": {},
   "source": [
    "https://stackoverflow.com/questions/4842424/list-of-ansi-color-escape-sequences"
   ]
  },
  {
   "cell_type": "code",
   "execution_count": null,
   "metadata": {},
   "outputs": [],
   "source": [
    "a = 10\n",
    "b = 20\n",
    "c = 30\n",
    "print(a,b,c,sep=\",\")"
   ]
  },
  {
   "cell_type": "code",
   "execution_count": null,
   "metadata": {},
   "outputs": [],
   "source": [
    "def multiply(*listInt:int) -> str:\n",
    "    out = 1\n",
    "    for i in listInt:\n",
    "        out*=i\n",
    "\n",
    "    print(out)\n",
    "multiply()\n",
    "multiply(10,20,30,\"fdg\")"
   ]
  },
  {
   "attachments": {},
   "cell_type": "markdown",
   "metadata": {},
   "source": [
    "در پایتون توابع کوچک و بدون نام هستند به اسم\n",
    "lambda"
   ]
  },
  {
   "cell_type": "code",
   "execution_count": null,
   "metadata": {},
   "outputs": [],
   "source": [
    "num = [3,6,235,89766,345,234,6]\n",
    "num = sorted(num,key=lambda x : x)\n",
    "print(num)"
   ]
  },
  {
   "attachments": {},
   "cell_type": "markdown",
   "metadata": {},
   "source": [
    "filter"
   ]
  },
  {
   "cell_type": "code",
   "execution_count": null,
   "metadata": {},
   "outputs": [],
   "source": [
    "num = [3,235,345]\n",
    "\n",
    "num = list(filter(lambda x : x % 2 == 0,num))\n",
    "print(num)"
   ]
  },
  {
   "attachments": {},
   "cell_type": "markdown",
   "metadata": {},
   "source": [
    "map"
   ]
  },
  {
   "cell_type": "code",
   "execution_count": null,
   "metadata": {},
   "outputs": [],
   "source": [
    "names = [\"moham\",\"ali\",\"hossin\",\"reza\",\"Alireza\",\"Reza\",\"tam\"]\n",
    "\n",
    "names = list(map(lambda x : x.upper(),names))\n",
    "print(names)"
   ]
  },
  {
   "cell_type": "code",
   "execution_count": 26,
   "metadata": {},
   "outputs": [
    {
     "name": "stdout",
     "output_type": "stream",
     "text": [
      "[213, 123, 123, 214]\n"
     ]
    }
   ],
   "source": [
    "num = [35,54,213,346,123,123,432,543,12,324,12,214]\n",
    "num = list(filter(lambda x : x >= 100 and x <= 250,num))\n",
    "print(num)"
   ]
  },
  {
   "cell_type": "code",
   "execution_count": 30,
   "metadata": {},
   "outputs": [
    {
     "name": "stdout",
     "output_type": "stream",
     "text": [
      "['ali', 'tam', 'reza', 'Reza', 'moham', 'hossin', 'Alireza']\n"
     ]
    }
   ],
   "source": [
    "names = [\"moham\",\"ali\",\"hossin\",\"reza\",\"Alireza\",\"Reza\",\"tam\"]\n",
    "name = list(sorted(names,key=lambda x : len(x)))\n",
    "print(name)"
   ]
  },
  {
   "cell_type": "code",
   "execution_count": 31,
   "metadata": {},
   "outputs": [
    {
     "name": "stdout",
     "output_type": "stream",
     "text": [
      "[('ali', 16), ('moham', 20), ('hossin', 30)]\n"
     ]
    }
   ],
   "source": [
    "names = [(\"moham\",20),(\"ali\",16),(\"hossin\",30)]\n",
    "name = list(sorted(names,key=lambda x :  x[1]))\n",
    "print(name)"
   ]
  },
  {
   "cell_type": "code",
   "execution_count": null,
   "metadata": {},
   "outputs": [],
   "source": [
    "def multiply(*listInt:int) -> int:\n",
    "    \"\"\"\n",
    "    ali \n",
    "    in tabe karesh zarb hast\n",
    "    Arges:\n",
    "        listInt (int): adad hai ke biaiad zarb beshan\n",
    "    Returns:\n",
    "        int: khoroji\n",
    "    \"\"\"\n",
    "    out = 1\n",
    "    for i in listInt:\n",
    "        out*=i\n",
    "\n",
    "    print(out)\n",
    "multiply()\n",
    "multiply(10,20,30,\"fdg\")"
   ]
  },
  {
   "cell_type": "code",
   "execution_count": 33,
   "metadata": {},
   "outputs": [
    {
     "name": "stdout",
     "output_type": "stream",
     "text": [
      "fnynz nyv unfgz 124 $*@\n"
     ]
    }
   ],
   "source": [
    "def rot13(message):\n",
    "    alp = \"abcdefghijklmnopqrstuvwxyz\"\n",
    "    ALP = alp.upper()\n",
    "\n",
    "    out = \"\"\n",
    "    for char in message:\n",
    "        if char.isupper():\n",
    "            out += ALP[(ALP.index(char)+13) % len(ALP)]\n",
    "        elif char.islower():\n",
    "            out += alp[(alp.index(char)+13) % len(ALP)]\n",
    "        else:\n",
    "            out += char\n",
    "    return out\n",
    "\n",
    "\n",
    "print(rot13(\"salam ali hastm 124 $*@\"))"
   ]
  },
  {
   "cell_type": "code",
   "execution_count": 35,
   "metadata": {},
   "outputs": [
    {
     "name": "stdout",
     "output_type": "stream",
     "text": [
      "E\n"
     ]
    }
   ],
   "source": [
    "print(chr(69))"
   ]
  },
  {
   "attachments": {},
   "cell_type": "markdown",
   "metadata": {},
   "source": [
    "شماره را به صورت گسترده بنویسید\n",
    "به شما یک عدد داده می شود و باید آن را به صورت رشته ای در Expanded Form برگردانید. مثلا:\n",
    "\n",
    "expanded_form(12) # Should return '10 + 2'\n",
    "expanded_form(42) # Should return '40 + 2'\n",
    "expanded_form(70304) # Should return '70000 + 300 + 4'"
   ]
  },
  {
   "cell_type": "code",
   "execution_count": null,
   "metadata": {},
   "outputs": [],
   "source": []
  }
 ],
 "metadata": {
  "kernelspec": {
   "display_name": "Python 3",
   "language": "python",
   "name": "python3"
  },
  "language_info": {
   "codemirror_mode": {
    "name": "ipython",
    "version": 3
   },
   "file_extension": ".py",
   "mimetype": "text/x-python",
   "name": "python",
   "nbconvert_exporter": "python",
   "pygments_lexer": "ipython3",
   "version": "3.10.11"
  },
  "orig_nbformat": 4
 },
 "nbformat": 4,
 "nbformat_minor": 2
}
