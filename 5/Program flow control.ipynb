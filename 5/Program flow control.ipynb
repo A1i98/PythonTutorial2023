{
 "cells": [
  {
   "attachments": {},
   "cell_type": "markdown",
   "metadata": {},
   "source": [
    "جواب تمرین"
   ]
  },
  {
   "cell_type": "code",
   "execution_count": null,
   "metadata": {},
   "outputs": [],
   "source": [
    "text = input()\n",
    "string = \"\"\n",
    "for item in text[::-1]:\n",
    "    string += item\n",
    "print(string)    "
   ]
  },
  {
   "cell_type": "code",
   "execution_count": null,
   "metadata": {},
   "outputs": [],
   "source": [
    "# print(\"ali manm\"[::-1])\n",
    "# print(\"\".join([i for i in input()][::-1]))\n",
    "print(\"\".join([i for i in input()[::-1]]))"
   ]
  },
  {
   "attachments": {},
   "cell_type": "markdown",
   "metadata": {},
   "source": [
    "while loops"
   ]
  },
  {
   "cell_type": "code",
   "execution_count": null,
   "metadata": {},
   "outputs": [],
   "source": [
    "for i in range(10):\n",
    "    print(i)"
   ]
  },
  {
   "cell_type": "code",
   "execution_count": null,
   "metadata": {},
   "outputs": [],
   "source": [
    "i = 0 \n",
    "while i < 10:\n",
    "    print(i)\n",
    "    i = i + 1\n",
    "    \n",
    "while True :\n",
    "    print(0)"
   ]
  },
  {
   "cell_type": "code",
   "execution_count": null,
   "metadata": {},
   "outputs": [],
   "source": [
    "javab = 5\n",
    "user_input = \"1\"\n",
    "while javab != int(user_input):\n",
    "    user_input = input(\"plz enter numer:\")\n",
    "    if user_input == \"0\":\n",
    "        print(\"by\")\n",
    "        break\n",
    "    if int(user_input) == javab:\n",
    "        print(\"afarin\")\n",
    "        break\n",
    "    print(\"javab shoma eshtebah ast\",user_input)\n"
   ]
  },
  {
   "cell_type": "code",
   "execution_count": null,
   "metadata": {},
   "outputs": [],
   "source": [
    "javab = 5\n",
    "user_input = \"1\"\n",
    "talash = 0\n",
    "while javab != int(user_input) and talash < 3:\n",
    "    user_input = input(\"plz enter numer:\")\n",
    "    if user_input == \"0\":\n",
    "        print(\"by\")\n",
    "        break\n",
    "    if int(user_input) == javab:\n",
    "        print(\"afarin\")\n",
    "        break\n",
    "    print(\"javab shoma eshtebah ast\",user_input)\n",
    "    talash +=1"
   ]
  },
  {
   "attachments": {},
   "cell_type": "markdown",
   "metadata": {},
   "source": [
    "https://docs.python.org/3/"
   ]
  },
  {
   "cell_type": "code",
   "execution_count": null,
   "metadata": {},
   "outputs": [],
   "source": [
    "import random\n",
    "\n",
    "javab = random.randint(1,100)\n",
    "print(javab)"
   ]
  },
  {
   "cell_type": "code",
   "execution_count": null,
   "metadata": {},
   "outputs": [],
   "source": [
    "javab = 5\n",
    "user_input = \"1\"\n",
    "talash = 0\n",
    "while javab != int(user_input) and talash < 3:\n",
    "    user_input = input(\"plz enter numer:\")\n",
    "    if user_input == \"0\":\n",
    "        print(\"by\")\n",
    "        break\n",
    "    if int(user_input) == javab:\n",
    "        print(\"afarin\")\n",
    "        break\n",
    "    if int(user_input) < javab:\n",
    "        print(\"adad javab bozorg tar ast\")\n",
    "    if int(user_input) > javab:\n",
    "        print(\"adad javab kochiktar tar ast\")    \n",
    "    print(\"javab shoma eshtebah ast\",user_input)\n",
    "    talash +=1"
   ]
  },
  {
   "attachments": {},
   "cell_type": "markdown",
   "metadata": {},
   "source": [
    "else in for "
   ]
  },
  {
   "cell_type": "code",
   "execution_count": 14,
   "metadata": {},
   "outputs": [
    {
     "name": "stdout",
     "output_type": "stream",
     "text": [
      "hame adad ha bar 5 bakhsh pazir ast\n"
     ]
    }
   ],
   "source": [
    "nums = [5,10,20,15]\n",
    "for bumber in nums:\n",
    "    if bumber % 5 !=0:\n",
    "        print(\"in adad drost nist\")\n",
    "        break\n",
    "else:\n",
    "    print(\"hame adad ha bar 5 bakhsh pazir ast\")"
   ]
  },
  {
   "cell_type": "code",
   "execution_count": 15,
   "metadata": {},
   "outputs": [
    {
     "name": "stdout",
     "output_type": "stream",
     "text": [
      "by\n"
     ]
    }
   ],
   "source": [
    "javab = 5\n",
    "user_input = \"1\"\n",
    "talash = 0\n",
    "while javab != int(user_input) and talash < 3:\n",
    "    user_input = input(\"plz enter numer:\")\n",
    "    if user_input == \"0\":\n",
    "        print(\"by\")\n",
    "        break\n",
    "    if int(user_input) == javab:\n",
    "        print(\"afarin\")\n",
    "        break\n",
    "    if int(user_input) < javab:\n",
    "        print(\"adad javab bozorg tar ast\")\n",
    "    if int(user_input) > javab:\n",
    "        print(\"adad javab kochiktar tar ast\")    \n",
    "    print(\"javab shoma eshtebah ast\",user_input)\n",
    "    talash +=1\n",
    "else:\n",
    "    print(\"\")"
   ]
  }
 ],
 "metadata": {
  "kernelspec": {
   "display_name": "Python 3",
   "language": "python",
   "name": "python3"
  },
  "language_info": {
   "codemirror_mode": {
    "name": "ipython",
    "version": 3
   },
   "file_extension": ".py",
   "mimetype": "text/x-python",
   "name": "python",
   "nbconvert_exporter": "python",
   "pygments_lexer": "ipython3",
   "version": "3.10.11"
  },
  "orig_nbformat": 4
 },
 "nbformat": 4,
 "nbformat_minor": 2
}
