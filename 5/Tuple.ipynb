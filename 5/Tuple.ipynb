{
 "cells": [
  {
   "attachments": {},
   "cell_type": "markdown",
   "metadata": {},
   "source": [
    "tuples\n",
    "()\n"
   ]
  },
  {
   "cell_type": "code",
   "execution_count": null,
   "metadata": {},
   "outputs": [],
   "source": [
    "names = (\"moham\",\"ali\",\"hossin\",\"reza\",\"Alireza\",\"Reza\",\"tam\")\n",
    "names = \"moham\",\"ali\",\"hossin\",\"reza\",\"Alireza\",\"Reza\",\"tam\"\n",
    "\n",
    "print(names)\n",
    "\n",
    "name = \"ali\"\n",
    "age = 20\n",
    "info = \"ali\",20\n",
    "print((name,age))"
   ]
  },
  {
   "cell_type": "code",
   "execution_count": null,
   "metadata": {},
   "outputs": [],
   "source": [
    "names = \"moham\",\"ali\",\"hossin\",\"reza\",\"Alireza\",\"Reza\",\"tam\"\n",
    "\n",
    "print(names[1])\n",
    "print(names[2])\n",
    "print(names[3])\n",
    "\n",
    "print(names[1:3])"
   ]
  },
  {
   "cell_type": "code",
   "execution_count": null,
   "metadata": {},
   "outputs": [],
   "source": [
    "names[2] = \"iman\""
   ]
  },
  {
   "attachments": {},
   "cell_type": "markdown",
   "metadata": {},
   "source": [
    "unpacking tuple"
   ]
  },
  {
   "cell_type": "code",
   "execution_count": null,
   "metadata": {},
   "outputs": [],
   "source": [
    "info = (\"john\",\"wick\",45)\n",
    "\n",
    "name , age = info\n"
   ]
  },
  {
   "cell_type": "code",
   "execution_count": null,
   "metadata": {},
   "outputs": [],
   "source": [
    "info = [\"john\",45]\n",
    "name , age = info\n",
    "names = [\"moham\",\"ali\",\"hossin\",\"reza\",\"Alireza\",\"Reza\",\"tam\"]\n",
    "for item in enumerate(names):\n",
    "    print(item)"
   ]
  },
  {
   "cell_type": "code",
   "execution_count": null,
   "metadata": {},
   "outputs": [],
   "source": [
    "text = \"dsdfjjklksal kl;jdsjfk\"\n",
    "\n",
    "for i in enumerate(text):\n",
    "    index , item = i\n",
    "    print(index,item)"
   ]
  },
  {
   "attachments": {},
   "cell_type": "markdown",
   "metadata": {},
   "source": [
    "nested tuple and list"
   ]
  },
  {
   "cell_type": "code",
   "execution_count": 20,
   "metadata": {},
   "outputs": [
    {
     "name": "stdout",
     "output_type": "stream",
     "text": [
      "((1, 2, 3), (4, 5, 6), (7, 8, 9))\n",
      "(4, 5, 6)\n",
      "6\n",
      "[[1, 50, 3], (4, 5, 6), (7, 8, 9), '435', 324]\n"
     ]
    }
   ],
   "source": [
    "num = ((1,2,3),(4,5,6),(7,8,9,))\n",
    "\n",
    "print(num)\n",
    "print(num[1])\n",
    "print(num[1][2])\n",
    "\n",
    "num = [[1,2,3],(4,5,6),(7,8,9,),\"435\",324]\n",
    "num[0][1]=50\n",
    "print(num)\n",
    "if type(num[1]) == \"list\":\n",
    "    num[1][1]=50\n"
   ]
  },
  {
   "cell_type": "code",
   "execution_count": 21,
   "metadata": {},
   "outputs": [
    {
     "name": "stdout",
     "output_type": "stream",
     "text": [
      "7\n"
     ]
    }
   ],
   "source": [
    "names = (\"moham\",\"ali\",\"hossin\",\"reza\",\"Alireza\",\"Reza\",\"tam\")\n",
    "print(len(names))\n",
    "\n"
   ]
  },
  {
   "cell_type": "code",
   "execution_count": 22,
   "metadata": {},
   "outputs": [
    {
     "name": "stdout",
     "output_type": "stream",
     "text": [
      "2\n"
     ]
    }
   ],
   "source": [
    "data = (35,54,213,346,123,123,432,543,12,324,12,214)\n",
    "print(data.count(123))"
   ]
  },
  {
   "cell_type": "code",
   "execution_count": 23,
   "metadata": {},
   "outputs": [
    {
     "name": "stdout",
     "output_type": "stream",
     "text": [
      "4\n"
     ]
    }
   ],
   "source": [
    "data = (35,54,213,346,123,123,432,543,12,324,12,214)\n",
    "print(data.index(123))"
   ]
  }
 ],
 "metadata": {
  "kernelspec": {
   "display_name": "Python 3",
   "language": "python",
   "name": "python3"
  },
  "language_info": {
   "codemirror_mode": {
    "name": "ipython",
    "version": 3
   },
   "file_extension": ".py",
   "mimetype": "text/x-python",
   "name": "python",
   "nbconvert_exporter": "python",
   "pygments_lexer": "ipython3",
   "version": "3.10.11"
  },
  "orig_nbformat": 4
 },
 "nbformat": 4,
 "nbformat_minor": 2
}
