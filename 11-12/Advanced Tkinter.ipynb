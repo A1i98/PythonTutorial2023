{
 "cells": [
  {
   "cell_type": "markdown",
   "metadata": {},
   "source": [
    "Progress Bar"
   ]
  },
  {
   "cell_type": "code",
   "execution_count": 5,
   "metadata": {},
   "outputs": [],
   "source": [
    "from tkinter import *\n",
    "from tkinter import ttk\n",
    "\n",
    "root = Tk()\n",
    "root.title(\"My Program\")\n",
    "root.geometry(\"300x300\")\n",
    "def addProBar():\n",
    "    proBar['value'] +=10\n",
    "    \n",
    "proBar = ttk.Progressbar(root,orient=HORIZONTAL,length=200)\n",
    "proBar.pack(pady=20)\n",
    "\n",
    "button = ttk.Button(root,text=\"Add 10%\",command=addProBar)\n",
    "button.pack(pady=20)\n",
    "\n",
    "root.mainloop()"
   ]
  },
  {
   "cell_type": "code",
   "execution_count": 11,
   "metadata": {},
   "outputs": [],
   "source": [
    "from tkinter import *\n",
    "from tkinter import ttk\n",
    "\n",
    "root = Tk()\n",
    "root.title(\"My Program\")\n",
    "root.geometry(\"300x300\")\n",
    "def addProBar():\n",
    "    proBar['value'] +=10\n",
    "    \n",
    "# proBar = ttk.Progressbar(root,orient=VERTICAL,length=200)\n",
    "proBar = ttk.Progressbar(root,orient=HORIZONTAL,length=200,mode=\"determinate\",maximum=50.0,value=10.0)\n",
    "proBar.start()\n",
    "proBar.pack(pady=20,side=LEFT)\n",
    "\n",
    "# button = ttk.Button(root,text=\"Add 10%\",command=addProBar)\n",
    "# button.pack(pady=20)\n",
    "\n",
    "root.mainloop()"
   ]
  },
  {
   "cell_type": "code",
   "execution_count": 14,
   "metadata": {},
   "outputs": [],
   "source": [
    "from tkinter import *\n",
    "from tkinter import ttk\n",
    "\n",
    "root = Tk()\n",
    "root.title(\"My Program\")\n",
    "root.geometry(\"300x300\")\n",
    "def call(val):\n",
    "    proBar['value'] = val\n",
    "    \n",
    "# proBar = ttk.Progressbar(root,orient=VERTICAL,length=200)\n",
    "proBar = ttk.Progressbar(root,orient=HORIZONTAL,length=200)\n",
    "proBar.pack(pady=20)\n",
    "\n",
    "scale = ttk.Scale(root,from_=0,to=100,orient=HORIZONTAL,command=call)\n",
    "scale.pack()\n",
    "# button = ttk.Button(root,text=\"Add 10%\",command=addProBar)\n",
    "# button.pack(pady=20)\n",
    "\n",
    "root.mainloop()"
   ]
  },
  {
   "cell_type": "markdown",
   "metadata": {},
   "source": [
    "Paned window"
   ]
  },
  {
   "cell_type": "code",
   "execution_count": 16,
   "metadata": {},
   "outputs": [],
   "source": [
    "from tkinter import *\n",
    "from tkinter import ttk\n",
    "\n",
    "root = Tk()\n",
    "root.title(\"My Program\")\n",
    "root.geometry(\"300x300\")\n",
    "\n",
    "p1=PanedWindow(root)\n",
    "p1.pack()\n",
    "\n",
    "\n",
    "f1 = Frame(p1,background=\"red\",width=100,height=300)\n",
    "f2 = Frame(p1,background=\"blue\",width=200,height=300)\n",
    "\n",
    "p1.add(f1)\n",
    "p1.add(f2)\n",
    "\n",
    "root.mainloop()"
   ]
  }
 ],
 "metadata": {
  "kernelspec": {
   "display_name": "Python 3",
   "language": "python",
   "name": "python3"
  },
  "language_info": {
   "codemirror_mode": {
    "name": "ipython",
    "version": 3
   },
   "file_extension": ".py",
   "mimetype": "text/x-python",
   "name": "python",
   "nbconvert_exporter": "python",
   "pygments_lexer": "ipython3",
   "version": "3.10.11"
  },
  "orig_nbformat": 4
 },
 "nbformat": 4,
 "nbformat_minor": 2
}
