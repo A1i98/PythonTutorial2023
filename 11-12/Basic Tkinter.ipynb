{
 "cells": [
  {
   "cell_type": "markdown",
   "metadata": {},
   "source": [
    "Tkinter"
   ]
  },
  {
   "cell_type": "code",
   "execution_count": null,
   "metadata": {},
   "outputs": [],
   "source": [
    "from tkinter import *\n",
    "from tkinter import ttk\n",
    "\n",
    "root = Tk()\n",
    "root.geometry(\"300x300\")\n",
    "button=Button(root,text=\"Click me\")\n",
    "button.pack()\n",
    "\n",
    "root.mainloop()"
   ]
  },
  {
   "cell_type": "code",
   "execution_count": null,
   "metadata": {},
   "outputs": [],
   "source": [
    "from tkinter import *\n",
    "from tkinter import ttk\n",
    "\n",
    "root = Tk()\n",
    "root.geometry(\"300x300\")\n",
    "button=Button(root,text=\"Click me\")\n",
    "button.pack()\n",
    "button2=ttk.Button(root,text=\"Click me\")\n",
    "button2.pack()\n",
    "\n",
    "root.mainloop()"
   ]
  },
  {
   "cell_type": "markdown",
   "metadata": {},
   "source": [
    "lable"
   ]
  },
  {
   "cell_type": "code",
   "execution_count": null,
   "metadata": {},
   "outputs": [],
   "source": [
    "from tkinter import *\n",
    "from tkinter import ttk\n",
    "root = Tk()\n",
    "root.geometry(\"300x300\")\n",
    "\n",
    "label = Label(root,text=\"Salam\")\n",
    "# # label[\"text\"]=\"سلام\"\n",
    "# label.config(text=\"سلام\")\n",
    "# label.config(font=\"Time 16\")\n",
    "# label.config(fg=\"red\")\n",
    "# label.config(bg=\"green\")\n",
    "\n",
    "label.config(text=\"سلام\",font=\"Time 16\",bg=\"green\",fg=\"red\")\n",
    "label.config(wraplength=20)\n",
    "label.config(justify=LEFT)\n",
    "label.config(justify=\"left\")\n",
    "label.config(justify=\"right\")\n",
    "\n",
    "\n",
    "label.pack()\n",
    "\n",
    "root.mainloop()"
   ]
  },
  {
   "cell_type": "code",
   "execution_count": null,
   "metadata": {},
   "outputs": [],
   "source": [
    "from tkinter import *\n",
    "count = 0\n",
    "\n",
    "def callback():\n",
    "    global count\n",
    "    count +=1\n",
    "    if count > 5:\n",
    "        button[\"state\"]=DISABLED\n",
    "        # button[\"state\"]=NORMAL\n",
    "\n",
    "    label.config(text=count)\n",
    "\n",
    "root = Tk()\n",
    "root.geometry(\"300x300\")\n",
    "\n",
    "label = Label(root,text=count)\n",
    "label.pack()\n",
    "\n",
    "button=ttk.Button(root,text=\"Add\",command=callback)\n",
    "button.pack()\n",
    "\n",
    "root.mainloop()"
   ]
  },
  {
   "cell_type": "code",
   "execution_count": null,
   "metadata": {},
   "outputs": [],
   "source": [
    "from tkinter import *\n",
    "from tkinter import ttk\n",
    "\n",
    "def callback():\n",
    "    var = entry.get()\n",
    "    var2 = entry2.get()\n",
    "\n",
    "    print(var)\n",
    "    print(var2)\n",
    "\n",
    "\n",
    "root = Tk()\n",
    "root.geometry(\"300x300\")\n",
    "\n",
    "lab1 = ttk.Label(root,text=\"UserName\")\n",
    "lab1.pack()\n",
    "entry = ttk.Entry(root)\n",
    "entry.pack()\n",
    "lab2 = ttk.Label(root,text=\"Password\")\n",
    "lab2.pack()\n",
    "entry2 = ttk.Entry(root)\n",
    "entry2.insert(0,\"پسورد خود را وارد کنید:\")\n",
    "# entry2[\"state\"] = \"disabled\"\n",
    "entry2[\"state\"] = \"readonly\"\n",
    "\n",
    "entry2.pack()\n",
    "button=ttk.Button(root,text=\"Add\",command=callback)\n",
    "button.pack()\n",
    "\n",
    "root.mainloop()"
   ]
  },
  {
   "cell_type": "code",
   "execution_count": null,
   "metadata": {},
   "outputs": [],
   "source": [
    "from tkinter import *\n",
    "from tkinter import ttk\n",
    "\n",
    "def callback():\n",
    "    var = entry.get()\n",
    "    var2 = entry2.get()\n",
    "\n",
    "    print(var)\n",
    "    print(var2)\n",
    "\n",
    "\n",
    "root = Tk()\n",
    "root.geometry(\"300x300\")\n",
    "\n",
    "lab1 = ttk.Label(root,text=\"UserName\")\n",
    "lab1.pack()\n",
    "entry = ttk.Entry(root)\n",
    "entry.pack()\n",
    "lab2 = ttk.Label(root,text=\"Password\")\n",
    "lab2.pack()\n",
    "entry2 = ttk.Entry(root)\n",
    "entry2.insert(0,\"پسورد خود را وارد کنید:\")\n",
    "# entry2[\"state\"] = \"disabled\"\n",
    "entry2[\"state\"] = \"readonly\"\n",
    "\n",
    "entry2.pack()\n",
    "button=ttk.Button(root,text=\"Add\",command=callback)\n",
    "button.pack()\n",
    "\n",
    "root.mainloop()"
   ]
  },
  {
   "cell_type": "markdown",
   "metadata": {},
   "source": [
    "grid"
   ]
  },
  {
   "cell_type": "code",
   "execution_count": null,
   "metadata": {},
   "outputs": [],
   "source": [
    "from tkinter import *\n",
    "from tkinter import ttk\n",
    "\n",
    "def callback():\n",
    "    var = entry.get()\n",
    "    var2 = entry2.get()\n",
    "\n",
    "    print(var)\n",
    "    print(var2)\n",
    "\n",
    "\n",
    "root = Tk()\n",
    "root.geometry(\"300x300\")\n",
    "\n",
    "lab1 = ttk.Label(root,text=\"UserName\")\n",
    "lab1.grid(row=0,column=0)\n",
    "entry = ttk.Entry(root)\n",
    "entry.grid(row=0,column=1,pady=5)\n",
    "lab2 = ttk.Label(root,text=\"Password\")\n",
    "lab2.grid(row=1,column=0)\n",
    "entry2 = ttk.Entry(root)\n",
    "entry2.insert(0,\"پسورد خود را وارد کنید:\")\n",
    "# entry2[\"state\"] = \"disabled\"\n",
    "entry2[\"state\"] = \"readonly\"\n",
    "\n",
    "entry2.grid(row=1,column=1,pady=5)\n",
    "button=ttk.Button(root,text=\"ثبت\",command=callback)\n",
    "# button.grid(row=2,column=0,columnspan=2,sticky=E)\n",
    "button.grid(row=2,column=0,columnspan=2,sticky=E+W,pady=5)\n",
    "\n",
    "\n",
    "root.mainloop()"
   ]
  },
  {
   "cell_type": "code",
   "execution_count": null,
   "metadata": {},
   "outputs": [],
   "source": [
    "from tkinter import *\n",
    "from tkinter import ttk\n",
    "\n",
    "def callback():\n",
    "    var = entry.get()\n",
    "    var2 = entry2.get()\n",
    "\n",
    "    print(var)\n",
    "    print(var2)\n",
    "\n",
    "\n",
    "root = Tk()\n",
    "root.geometry(\"300x300\")\n",
    "\n",
    "lab1 = ttk.Label(root,text=\"UserName\")\n",
    "lab1.grid(row=0,column=0)\n",
    "entry = ttk.Entry(root)\n",
    "entry.grid(row=0,column=1,pady=5)\n",
    "lab2 = ttk.Label(root,text=\"Password\")\n",
    "lab2.grid(row=1,column=0)\n",
    "entry2 = ttk.Entry(root)\n",
    "entry2.insert(0,\"پسورد خود را وارد کنید:\")\n",
    "# entry2[\"state\"] = \"disabled\"\n",
    "entry2[\"state\"] = \"readonly\"\n",
    "\n",
    "entry2.grid(row=1,column=1,pady=5)\n",
    "\n",
    "varCB = StringVar()\n",
    "varCB = IntVar()\n",
    "\n",
    "checkBox = Checkbutton(root,text=\"Login\",variable=varCB)\n",
    "checkBox.grid(row=2,column=2,pady=5)\n",
    "\n",
    "button=ttk.Button(root,text=\"ثبت\",command=callback)\n",
    "# button.grid(row=2,column=0,columnspan=2,sticky=E)\n",
    "button.grid(row=3,column=0,pady=5)\n",
    "\n",
    "\n",
    "root.mainloop()"
   ]
  },
  {
   "cell_type": "markdown",
   "metadata": {},
   "source": [
    "Radio"
   ]
  },
  {
   "cell_type": "code",
   "execution_count": null,
   "metadata": {},
   "outputs": [],
   "source": [
    "from tkinter import *\n",
    "from tkinter import ttk\n",
    "\n",
    "root = Tk()\n",
    "root.geometry(\"300x300\")\n",
    "\n",
    "age_lable = ttk.Label(root,text=\"Name:\")\n",
    "age_lable.grid(row=0,column=0)\n",
    "\n",
    "name_ent = ttk.Entry(root)\n",
    "name_ent.grid(row=0,column=1)\n",
    "\n",
    "gne_rdio = StringVar()\n",
    "radioM = ttk.Radiobutton(root,text=\"Male\",variable=gne_rdio,value=\"Male\")\n",
    "radioM.grid(row=1,column=0)\n",
    "\n",
    "radioF = Radiobutton(root,text=\"Female\",variable=gne_rdio,value=\"Female\")\n",
    "radioF.grid(row=1,column=1)\n",
    "\n",
    "root.mainloop()"
   ]
  },
  {
   "cell_type": "markdown",
   "metadata": {},
   "source": [
    "ComboBox"
   ]
  },
  {
   "cell_type": "code",
   "execution_count": null,
   "metadata": {},
   "outputs": [],
   "source": [
    "from tkinter import *\n",
    "from tkinter import ttk\n",
    "\n",
    "root = Tk()\n",
    "root.geometry(\"300x300\")\n",
    "\n",
    "age_lable = ttk.Label(root,text=\"Name:\")\n",
    "age_lable.grid(row=0,column=0)\n",
    "\n",
    "computer_parts = StringVar()\n",
    "name_Combobox = ttk.Combobox(root,textvariable=computer_parts,values=[\"موس\",\"صفحه نمایش\",\"PC\"])\n",
    "name_Combobox.grid(row=0,column=1)\n",
    "\n",
    "\n",
    "\n",
    "root.mainloop()"
   ]
  },
  {
   "cell_type": "markdown",
   "metadata": {},
   "source": [
    "SpinBox"
   ]
  },
  {
   "cell_type": "code",
   "execution_count": null,
   "metadata": {},
   "outputs": [],
   "source": [
    "from tkinter import *\n",
    "from tkinter import ttk\n",
    "\n",
    "root = Tk()\n",
    "root.geometry(\"300x300\")\n",
    "\n",
    "age_lable = ttk.Label(root,text=\"Age:\")\n",
    "age_lable.grid(row=0,column=0)\n",
    "\n",
    "var_int = IntVar()\n",
    "spin_for_age = ttk.Spinbox(root,from_ = 1,to=20,textvariable=var_int)\n",
    "spin_for_age.grid(row=0,column=1)\n",
    "root.mainloop()"
   ]
  },
  {
   "cell_type": "markdown",
   "metadata": {},
   "source": [
    "Message box"
   ]
  },
  {
   "cell_type": "code",
   "execution_count": null,
   "metadata": {},
   "outputs": [],
   "source": [
    "from tkinter import *\n",
    "from tkinter import ttk\n",
    "import tkinter.messagebox as messagebox\n",
    "root = Tk()\n",
    "root.title(\"My Program\")\n",
    "root.geometry(\"300x300\")\n",
    "def call():\n",
    "    # messagebox.showerror(\"Message\",\"Error\")\n",
    "    # messagebox.showinfo(\"Message\",\"Info\")\n",
    "    # messagebox.showwarning(\"Message\",\"warning\")\n",
    "    answer = messagebox.askquestion(\"Message\",\"تایید کنید.\",icon=\"error\")\n",
    "    print(answer)\n",
    "\n",
    "button = Button(root,text=\"Click Me\",command=call)\n",
    "button.pack()\n",
    "\n",
    "root.mainloop()"
   ]
  },
  {
   "cell_type": "markdown",
   "metadata": {},
   "source": [
    "Text"
   ]
  },
  {
   "cell_type": "code",
   "execution_count": 21,
   "metadata": {},
   "outputs": [],
   "source": [
    "from tkinter import *\n",
    "from tkinter import ttk\n",
    "\n",
    "root = Tk()\n",
    "root.title(\"My Program\")\n",
    "root.geometry(\"300x300\")\n",
    "def call():\n",
    "\n",
    "    answer = messagebox.askquestion(\"Message\",\"تایید کنید.\",icon=\"error\")\n",
    "    print(answer)\n",
    "\n",
    "text = Text(root,width=20,height=30)\n",
    "text.pack()\n",
    "\n",
    "button = Button(root,text=\"Click Me\",command=call)\n",
    "button.pack()\n",
    "\n",
    "root.mainloop()"
   ]
  },
  {
   "cell_type": "markdown",
   "metadata": {},
   "source": [
    "Place"
   ]
  },
  {
   "cell_type": "code",
   "execution_count": 25,
   "metadata": {},
   "outputs": [],
   "source": [
    "from tkinter import *\n",
    "from tkinter import ttk\n",
    "\n",
    "root = Tk()\n",
    "root.title(\"My Program\")\n",
    "root.geometry(\"300x300\")\n",
    "def call():\n",
    "\n",
    "    answer = messagebox.askquestion(\"Message\",\"تایید کنید.\",icon=\"error\")\n",
    "    print(answer)\n",
    "\n",
    "# text = Text(root,width=10,height=10)\n",
    "# text.pack()\n",
    "\n",
    "button = Button(root,text=\"Click Me1\",command=call)\n",
    "button.place(x=200,y=100)\n",
    "\n",
    "Button(root,text=\"Click Me2\",command=call).place(x=200,y=100)\n",
    "\n",
    "\n",
    "root.mainloop()"
   ]
  },
  {
   "cell_type": "code",
   "execution_count": 31,
   "metadata": {},
   "outputs": [],
   "source": [
    "from tkinter import *\n",
    "from tkinter import ttk\n",
    "\n",
    "root = Tk()\n",
    "root.title(\"My Program\")\n",
    "root.geometry(\"300x300\")\n",
    "def call():\n",
    "\n",
    "    answer = messagebox.askquestion(\"Message\",\"تایید کنید.\",icon=\"error\")\n",
    "    print(answer)\n",
    "\n",
    "# text = Text(root,width=10,height=10)\n",
    "# text.pack()\n",
    "\n",
    "button = Button(root,text=\"Click Me1\",command=call)\n",
    "button.place(relx=1.0,rely=1.0,anchor=\"ne\")\n",
    "\n",
    "Button(root,text=\"Click Me2\",command=call).place(x=100,y=100,anchor=\"ne\")\n",
    "\n",
    "\n",
    "root.mainloop()"
   ]
  },
  {
   "cell_type": "markdown",
   "metadata": {},
   "source": [
    "Frame"
   ]
  },
  {
   "cell_type": "code",
   "execution_count": 39,
   "metadata": {},
   "outputs": [],
   "source": [
    "from tkinter import *\n",
    "from tkinter import ttk\n",
    "\n",
    "root = Tk()\n",
    "root.title(\"My Program\")\n",
    "root.geometry(\"300x300\")\n",
    "\n",
    "\n",
    "my_frame = LabelFrame(root,text=\"My Frame\")\n",
    "my_frame.pack(padx=10,pady=10)\n",
    "\n",
    "my_lable = ttk.Label(my_frame,text=\"Name: Ali\")\n",
    "my_lable.grid(row=0,column=0)\n",
    "\n",
    "my_frame2 = LabelFrame(root,text=\"My Frame\")\n",
    "my_frame2.pack(padx=20,pady=20)\n",
    "\n",
    "my_labl2 = ttk.Label(my_frame2,text=\"Name: Ali\")\n",
    "my_labl2.grid(row=0,column=0)\n",
    "\n",
    "root.mainloop()"
   ]
  }
 ],
 "metadata": {
  "kernelspec": {
   "display_name": "Python 3",
   "language": "python",
   "name": "python3"
  },
  "language_info": {
   "codemirror_mode": {
    "name": "ipython",
    "version": 3
   },
   "file_extension": ".py",
   "mimetype": "text/x-python",
   "name": "python",
   "nbconvert_exporter": "python",
   "pygments_lexer": "ipython3",
   "version": "3.10.11"
  },
  "orig_nbformat": 4
 },
 "nbformat": 4,
 "nbformat_minor": 2
}
