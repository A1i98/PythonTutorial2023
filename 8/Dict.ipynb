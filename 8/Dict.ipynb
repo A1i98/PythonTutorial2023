{
 "cells": [
  {
   "attachments": {},
   "cell_type": "markdown",
   "metadata": {},
   "source": [
    "Dictionaries\n",
    "{}"
   ]
  },
  {
   "cell_type": "code",
   "execution_count": null,
   "metadata": {},
   "outputs": [],
   "source": [
    "person = {'name':'ali','age':20}\n",
    "print(person['name'])"
   ]
  },
  {
   "cell_type": "code",
   "execution_count": null,
   "metadata": {},
   "outputs": [],
   "source": [
    "person = {'name':'ali','age':20}\n",
    "person['city'] = \"karaj\"\n",
    "print(person)"
   ]
  },
  {
   "cell_type": "code",
   "execution_count": null,
   "metadata": {},
   "outputs": [],
   "source": [
    "person = {'name':'ali','age':20}\n",
    "print(person['city'])"
   ]
  },
  {
   "cell_type": "code",
   "execution_count": null,
   "metadata": {},
   "outputs": [],
   "source": [
    "person = {'name':'ali','age':20}\n",
    "data = person.get(\"city\")\n",
    "print(data)"
   ]
  },
  {
   "cell_type": "code",
   "execution_count": null,
   "metadata": {},
   "outputs": [],
   "source": [
    "person = {'name':'ali','age':20}\n",
    "data = person.get(\"city\",\"karaj\")\n",
    "print(data)"
   ]
  },
  {
   "cell_type": "code",
   "execution_count": null,
   "metadata": {},
   "outputs": [],
   "source": [
    "person = {'name':'ali','age':20,'city':\"karaj\"}\n",
    "for i in person:\n",
    "    print(i)\n"
   ]
  },
  {
   "cell_type": "code",
   "execution_count": null,
   "metadata": {},
   "outputs": [],
   "source": [
    "person = {'name':'ali','age':20,'city':\"karaj\"}\n",
    "for key,value in person.items():\n",
    "    print(value)"
   ]
  },
  {
   "cell_type": "code",
   "execution_count": null,
   "metadata": {},
   "outputs": [],
   "source": [
    "iran_cities = {\n",
    "    'Tehran': 'Tehran',\n",
    "    'Mashhad': 'Razavi Khorasan',\n",
    "    'Isfahan': 'Isfahan',\n",
    "    'Tabriz': 'East Azerbaijan',\n",
    "    'Shiraz': 'Fars',\n",
    "    'Karaj': 'Alborz',\n",
    "    'Qom': 'Qom',\n",
    "    'Ahvaz': 'Khuzestan',\n",
    "    'Kermanshah': 'Kermanshah'\n",
    "}\n",
    "del iran_cities[\"Tehran\"]\n",
    "iran_cities.pop(\"Tehran\",None)\n",
    "data = iran_cities.pop(\"Tabriz\",None)\n",
    "print(iran_cities)\n",
    "print(data)"
   ]
  },
  {
   "cell_type": "code",
   "execution_count": null,
   "metadata": {},
   "outputs": [],
   "source": [
    "iran_cities = {\n",
    "    'تهران': ['تهران', 'ورامین', 'ری', 'شمیرانات', 'پاکدشت', 'فیروزکوه', 'وردآورد'],\n",
    "    'اصفهان': ['اصفهان', 'خمینی‌شهر', 'کاشان', 'نجف‌آباد', 'نطنز', 'فریدن', 'اردستان'],\n",
    "    'شیراز': ['شیراز', 'مرودشت', 'فسا', 'لارستان', 'ارسنجان', 'خرامه', 'نی‌ریز'],\n",
    "    'مشهد': ['مشهد', 'نیشابور', 'سبزوار', 'گناباد', 'کاشمر', 'تربت حیدریه', 'تربت جام'],\n",
    "    'تبریز': ['تبریز', 'مراغه', 'میانه', 'سراب', 'هریس', 'شبستر', 'عجب‌شیر'],\n",
    "    'البرز' : {\"جمعیت\" : 200000}\n",
    "}\n",
    "\n",
    "print(iran_cities['تهران'][1])\n",
    "print(iran_cities[\"البرز\"][\"جمعیت\"])"
   ]
  },
  {
   "cell_type": "code",
   "execution_count": null,
   "metadata": {},
   "outputs": [],
   "source": [
    "iran_cities = {\n",
    "    'Tehran': 'Tehran',\n",
    "    'Mashhad': 'Razavi Khorasan',\n",
    "    'Isfahan': 'Isfahan',\n",
    "    'Tabriz': 'East Azerbaijan',\n",
    "    'Shiraz': 'Fars',\n",
    "    'Karaj': 'Alborz',\n",
    "    'Qom': 'Qom',\n",
    "    'Ahvaz': 'Khuzestan',\n",
    "    'Kermanshah': 'Kermanshah'\n",
    "}\n",
    "\n",
    "if \"Tehran\" in iran_cities:\n",
    "    print(iran_cities[\"Tehran\"])\n",
    "\n",
    "\n",
    "if \"Alborz\" in iran_cities:\n",
    "    print(\"Alborz hast\")"
   ]
  },
  {
   "cell_type": "code",
   "execution_count": null,
   "metadata": {},
   "outputs": [],
   "source": [
    "parts = {\n",
    "    \"1\":\"کامپیوتر\",\n",
    "    \"2\":\"مانیتور\",\n",
    "    \"3\":\"کیبرد\",\n",
    "    \"4\":\"موس\",\n",
    "    \"5\":\"هدفون\",\n",
    "    \"6\":\"قلم\"\n",
    "}\n",
    "\n",
    "buy_list = []\n",
    "while True:\n",
    "    print(\"از لیست مورد نظر یک ایتم را انتخاب کنید\")\n",
    "    for num , part  in parts.items():\n",
    "        print(f\"{num} : {part}\")\n",
    "\n",
    "    print(\" 0 برای خروج\")\n",
    "\n",
    "    choice = input()\n",
    "    if choice == \"0\":\n",
    "        break\n",
    "    elif choice in parts:\n",
    "        print(\"مقدار مورد نظر شما به لیست خرید اضافه شد\")\n",
    "        buy_list.append(parts[choice])\n",
    "print(buy_list)"
   ]
  },
  {
   "cell_type": "code",
   "execution_count": null,
   "metadata": {},
   "outputs": [],
   "source": [
    "parts = {\n",
    "    \"1\":\"کامپیوتر\",\n",
    "    \"2\":\"مانیتور\",\n",
    "    \"3\":\"کیبرد\",\n",
    "    \"4\":\"موس\",\n",
    "    \"5\":\"هدفون\",\n",
    "    \"6\":\"قلم\"\n",
    "}\n",
    "\n",
    "buy_list = []\n",
    "while True:\n",
    "    print(\"از لیست مورد نظر یک ایتم را انتخاب کنید\")\n",
    "    for num , part  in parts.items():\n",
    "        print(f\"{num} : {part}\")\n",
    "\n",
    "    print(\" 0 برای خروج\")\n",
    "\n",
    "    choice = input()\n",
    "    if choice == \"0\":\n",
    "        break\n",
    "    elif choice in parts:\n",
    "        if parts[choice] in buy_list:\n",
    "            buy_list.remove(parts[choice])\n",
    "            print(\"ایتم مورد نظر شما از لیست خریدتان حذف شد\")\n",
    "            continue\n",
    "        print(\"مقدار مورد نظر شما به لیست خرید اضافه شد\")\n",
    "        buy_list.append(parts[choice])\n",
    "print(buy_list)"
   ]
  },
  {
   "attachments": {},
   "cell_type": "markdown",
   "metadata": {},
   "source": [
    "تمرین 7 : \n",
    "کد بالارا به صورتی بنویسید که هر یک از پارت های ما یک قیمت داشته باشند و پس از خروج مجموع قیمت را نمایش دهد"
   ]
  },
  {
   "attachments": {},
   "cell_type": "markdown",
   "metadata": {},
   "source": [
    "setdeault"
   ]
  },
  {
   "cell_type": "code",
   "execution_count": null,
   "metadata": {},
   "outputs": [],
   "source": [
    "matneman = \"salam khobhastid\"\n",
    "letter_counts = {}\n",
    "for char in matneman :\n",
    "    letter_counts[char] = letter_counts.setdefault(char,0)+1\n",
    "\n",
    "print(letter_counts)"
   ]
  },
  {
   "attachments": {},
   "cell_type": "markdown",
   "metadata": {},
   "source": [
    "Mapping Types"
   ]
  },
  {
   "cell_type": "code",
   "execution_count": null,
   "metadata": {},
   "outputs": [],
   "source": [
    "a = {\"one\": 1, \"two\": 2, \"three\": 3}\n",
    "b = dict(one=1, two=2, three=3)\n",
    "c = dict(zip([\"one\",\"two\",\"three\"],[1,2,3]))\n",
    "d = dict([(\"two\", 2),(\"one\", 1),(\"three\", 3)])\n",
    "e = dict({\"one\": 1, \"two\": 2, \"three\": 3})\n",
    "f = dict({\"one\": 1, \"two\": 2}, three= 3)\n",
    "\n",
    "print(a == b == c == d == e == f)"
   ]
  },
  {
   "cell_type": "code",
   "execution_count": null,
   "metadata": {},
   "outputs": [],
   "source": [
    "iran_cities = {\n",
    "    'Tehran': 'Tehran',\n",
    "    'Mashhad': 'Razavi Khorasan',\n",
    "    'Isfahan': 'Isfahan',\n",
    "    'Tabriz': 'East Azerbaijan',\n",
    "    'Shiraz': 'Fars',\n",
    "    'Karaj': 'Alborz',\n",
    "    'Qom': 'Qom',\n",
    "    'Ahvaz': 'Khuzestan',\n",
    "    'Kermanshah': 'Kermanshah'\n",
    "}\n",
    "iran_cities.update({'Tehran':\"شمیران\",\"Qom\":\"markaz iran\"})\n",
    "print(iran_cities)\n"
   ]
  },
  {
   "attachments": {},
   "cell_type": "markdown",
   "metadata": {},
   "source": [
    "values\n",
    "برای استخراج تمام مقایدر یک دیکشنری است"
   ]
  },
  {
   "cell_type": "code",
   "execution_count": null,
   "metadata": {},
   "outputs": [],
   "source": [
    "iran_cities = {\n",
    "    'Tehran': 'Tehran',\n",
    "    'Mashhad': 'Razavi Khorasan',\n",
    "    'Isfahan': 'Isfahan',\n",
    "    'Tabriz': 'East Azerbaijan',\n",
    "    'Shiraz': 'Fars',\n",
    "    'Karaj': 'Alborz',\n",
    "    'Qom': 'Qom',\n",
    "    'Ahvaz': 'Khuzestan',\n",
    "    'Kermanshah': 'Kermanshah'\n",
    "}\n",
    "keys = iran_cities.values()\n",
    "# print(type(v))\n",
    "# for i in v:\n",
    "#     print(i)\n",
    "iran_cities['Tehran'] = \"شمیران\"\n",
    "print(keys)"
   ]
  },
  {
   "attachments": {},
   "cell_type": "markdown",
   "metadata": {},
   "source": [
    "shallow copy\n",
    "copy"
   ]
  },
  {
   "cell_type": "code",
   "execution_count": null,
   "metadata": {},
   "outputs": [],
   "source": [
    "iran_cities = {\n",
    "    'تهران': ['تهران', 'ورامین', 'ری', 'شمیرانات', 'پاکدشت', 'فیروزکوه', 'وردآورد'],\n",
    "    'اصفهان': ['اصفهان', 'خمینی‌شهر', 'کاشان', 'نجف‌آباد', 'نطنز', 'فریدن', 'اردستان'],\n",
    "    'شیراز': ['شیراز', 'مرودشت', 'فسا', 'لارستان', 'ارسنجان', 'خرامه', 'نی‌ریز'],\n",
    "    'مشهد': ['مشهد', 'نیشابور', 'سبزوار', 'گناباد', 'کاشمر', 'تربت حیدریه', 'تربت جام'],\n",
    "    'تبریز': ['تبریز', 'مراغه', 'میانه', 'سراب', 'هریس', 'شبستر', 'عجب‌شیر']\n",
    "}\n",
    "iran_cities_copy = iran_cities.copy()\n",
    "\n",
    "iran_cities['تهران'].append(\"دماوند\")\n",
    "print(iran_cities['تهران'])\n",
    "\n",
    "print(iran_cities_copy['تهران'])"
   ]
  },
  {
   "cell_type": "code",
   "execution_count": null,
   "metadata": {},
   "outputs": [],
   "source": [
    "import copy\n",
    "iran_cities = {\n",
    "    'تهران': ['تهران', 'ورامین', 'ری', 'شمیرانات', 'پاکدشت', 'فیروزکوه', 'وردآورد'],\n",
    "    'اصفهان': ['اصفهان', 'خمینی‌شهر', 'کاشان', 'نجف‌آباد', 'نطنز', 'فریدن', 'اردستان'],\n",
    "    'شیراز': ['شیراز', 'مرودشت', 'فسا', 'لارستان', 'ارسنجان', 'خرامه', 'نی‌ریز'],\n",
    "    'مشهد': ['مشهد', 'نیشابور', 'سبزوار', 'گناباد', 'کاشمر', 'تربت حیدریه', 'تربت جام'],\n",
    "    'تبریز': ['تبریز', 'مراغه', 'میانه', 'سراب', 'هریس', 'شبستر', 'عجب‌شیر']\n",
    "}\n",
    "iran_cities_copy = copy.deepcopy(iran_cities)\n",
    "\n",
    "iran_cities['تهران'].append(\"دماوند\")\n",
    "print(iran_cities['تهران'])\n",
    "\n",
    "print(iran_cities_copy['تهران'])"
   ]
  },
  {
   "cell_type": "code",
   "execution_count": null,
   "metadata": {},
   "outputs": [],
   "source": [
    "iran_cities = {\n",
    "    'Tehran': 'Tehran',\n",
    "    'Mashhad': 'Razavi Khorasan',\n",
    "    'Isfahan': 'Isfahan',\n",
    "    'Tabriz': 'East Azerbaijan',\n",
    "    'Shiraz': 'Fars',\n",
    "    'Karaj': 'Alborz',\n",
    "    'Qom': 'Qom',\n",
    "    'Ahvaz': 'Khuzestan',\n",
    "    'Kermanshah': 'Kermanshah'\n",
    "}\n",
    "keys = iran_cities.keys()\n",
    "print(type(keys))\n",
    "for i in keys:\n",
    "    print(i)\n",
    "# iran_cities['Tehran'] = \"شمیران\"\n",
    "# print(v)"
   ]
  },
  {
   "cell_type": "code",
   "execution_count": null,
   "metadata": {},
   "outputs": [],
   "source": [
    "def move_zeros(lst):\n",
    "    result = []\n",
    "    zeros = []\n",
    "    for x in lst:\n",
    "        if x != 0:\n",
    "            result.append(x)\n",
    "        else:\n",
    "            zeros.append(x)\n",
    "    return result + zeros"
   ]
  }
 ],
 "metadata": {
  "kernelspec": {
   "display_name": "Python 3",
   "language": "python",
   "name": "python3"
  },
  "language_info": {
   "codemirror_mode": {
    "name": "ipython",
    "version": 3
   },
   "file_extension": ".py",
   "mimetype": "text/x-python",
   "name": "python",
   "nbconvert_exporter": "python",
   "pygments_lexer": "ipython3",
   "version": "3.10.11"
  },
  "orig_nbformat": 4
 },
 "nbformat": 4,
 "nbformat_minor": 2
}
