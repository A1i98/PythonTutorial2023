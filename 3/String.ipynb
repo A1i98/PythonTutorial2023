{
 "cells": [
  {
   "cell_type": "code",
   "execution_count": null,
   "metadata": {},
   "outputs": [],
   "source": [
    "name = \"ali\"\n",
    "print(name)\n",
    "\n",
    "print(\"salam\")\n",
    "\n",
    "print(\"salam\",name)\n",
    "\n",
    "print(\"salam\"+name)\n",
    "\n",
    "# name = input()\n",
    "\n",
    "name = input(\"plz enter your name\")\n",
    "\n",
    "print(\"salam\",name)"
   ]
  },
  {
   "attachments": {},
   "cell_type": "markdown",
   "metadata": {},
   "source": [
    "Escape character"
   ]
  },
  {
   "cell_type": "code",
   "execution_count": null,
   "metadata": {},
   "outputs": [],
   "source": [
    "splitString = \"in matn\\nazhaminja\\nomadpain\"\n",
    "print(splitString)\n",
    "tabString=\"1\\t2\\t3\"\n",
    "print(tabString)\n",
    "\n",
    "print(\"in matne \\\" darad\")\n",
    "print('in matne \\' darad')\n",
    "\n",
    "text = \"\"\"in matn \\\n",
    "zhaminja \\\n",
    "omadpain \\\n",
    "\"\"\"\n",
    "print(text)\n",
    "\n",
    "path = \"C:\\\\Users\\\\Mr\\\\Desktop\\\\PythonTutorial2023\"\n",
    "print(path)\n",
    "print(r\"C:\\Users\\Mr\\Desktop\\PythonTutorial2023\")"
   ]
  },
  {
   "attachments": {},
   "cell_type": "markdown",
   "metadata": {},
   "source": [
    "str data type - index"
   ]
  },
  {
   "cell_type": "code",
   "execution_count": null,
   "metadata": {},
   "outputs": [],
   "source": [
    "#       012345678\n",
    "path = \"Iran tehran\"\n",
    "print(path)\n",
    "print(path[2])\n",
    "print(path[-1])\n",
    "print(path[-2])\n",
    "print(path[-3])\n",
    "\n"
   ]
  },
  {
   "attachments": {},
   "cell_type": "markdown",
   "metadata": {},
   "source": [
    "step in a slice"
   ]
  },
  {
   "cell_type": "code",
   "execution_count": null,
   "metadata": {},
   "outputs": [],
   "source": [
    "#       012345678\n",
    "path = \"Iran tehran\"\n",
    "print(path[2:6])\n",
    "print(path[2:8:2])\n",
    "\n",
    "number =\"9,342,543,543,345\"\n",
    "print(number[1::4])\n",
    "abc = \"abcdefghijklmnopqrstuvwxyz\"\n",
    "print(abc[25:0:-1])\n",
    "print(abc[24::-1])\n",
    "print(abc[::-1])"
   ]
  },
  {
   "attachments": {},
   "cell_type": "markdown",
   "metadata": {},
   "source": [
    "String operators"
   ]
  },
  {
   "cell_type": "code",
   "execution_count": null,
   "metadata": {},
   "outputs": [],
   "source": [
    "s1 = \"salam \"\n",
    "s2 = \"khobid\"\n",
    "print(s1+s2)\n",
    "print(\"salam \" \"khobid\")\n",
    "print(\"salam \" * 5)\n",
    "print(\"-\" * 50)\n",
    "text = \"ali hastam az iran\"\n",
    "print(\"ali\" in text)\n",
    "print(\"hossin\" in text)"
   ]
  },
  {
   "attachments": {},
   "cell_type": "markdown",
   "metadata": {},
   "source": [
    "string replacement - format - %"
   ]
  },
  {
   "cell_type": "code",
   "execution_count": 46,
   "metadata": {},
   "outputs": [
    {
     "name": "stdout",
     "output_type": "stream",
     "text": [
      "sene shoma 20\n",
      "sene shoma 20\n",
      "sene shoma 20 shoma dar karaj zendegi mikonid\n",
      "sene shoma 20 va sene hassan 20\n",
      "adad ma 15 hast moraba 225 va mokabe an 3375\n",
      "adde pi 3.14286\n",
      "adde pi 3.14285714285714279370154144999105483293533325195312\n",
      "adde pi 3.14285714285714279370154144999105483293533325195312\n",
      "adde pi 3.14285714285714279370154144999105483293533325195312\n",
      "adde pi 3.14285714285714279370154144999105483293533325195312\n"
     ]
    }
   ],
   "source": [
    "age = 20 \n",
    "# address = input()\n",
    "print(\"sene shoma \"+str(age))\n",
    "print(\"sene shoma {0}\".format(age))\n",
    "print(\"sene shoma {0} shoma dar {1} zendegi mikonid\".format(age,address))\n",
    "print(\"sene shoma {0} va sene hassan {0}\".format(age))\n",
    "\n",
    "i = 15\n",
    "print(\"adad ma {0} hast moraba {1} va mokabe an {2}\".format(i,i**2,i**3))\n",
    "\n",
    "pi = 22/7\n",
    "print(\"adde pi {0:1.5f}\".format(pi))\n",
    "print(\"adde pi {0:1.50f}\".format(pi))\n",
    "\n",
    "print(f\"adde pi {pi:1.50f}\")\n",
    "print(f\"adde pi {pi:1.50f}\")\n",
    "\n",
    "print(\"adde pi %1.50f\"%(pi))"
   ]
  }
 ],
 "metadata": {
  "kernelspec": {
   "display_name": "Python 3",
   "language": "python",
   "name": "python3"
  },
  "language_info": {
   "codemirror_mode": {
    "name": "ipython",
    "version": 3
   },
   "file_extension": ".py",
   "mimetype": "text/x-python",
   "name": "python",
   "nbconvert_exporter": "python",
   "pygments_lexer": "ipython3",
   "version": "3.10.11"
  },
  "orig_nbformat": 4
 },
 "nbformat": 4,
 "nbformat_minor": 2
}
