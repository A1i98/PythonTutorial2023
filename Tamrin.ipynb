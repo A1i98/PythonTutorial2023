{
 "cells": [
  {
   "cell_type": "code",
   "execution_count": 7,
   "metadata": {},
   "outputs": [
    {
     "name": "stdout",
     "output_type": "stream",
     "text": [
      "4\n",
      "1000 + 200 + 30 + 4 + \n"
     ]
    }
   ],
   "source": [
    "num = 1234\n",
    "\n",
    "len_num = len(str(num))\n",
    "print(len_num)\n",
    "\n",
    "out = ''\n",
    "for i , d in enumerate(str(num)):\n",
    "    # out += f\"{d} x 10^({len_num-i-1})+\"\n",
    "    tavan = 10**(len_num-i-1)\n",
    "    ma_out = int(d)*tavan\n",
    "    out += f\"{ma_out} + \"\n",
    "\n",
    "print(out)"
   ]
  }
 ],
 "metadata": {
  "kernelspec": {
   "display_name": "Python 3",
   "language": "python",
   "name": "python3"
  },
  "language_info": {
   "codemirror_mode": {
    "name": "ipython",
    "version": 3
   },
   "file_extension": ".py",
   "mimetype": "text/x-python",
   "name": "python",
   "nbconvert_exporter": "python",
   "pygments_lexer": "ipython3",
   "version": "3.10.11"
  },
  "orig_nbformat": 4
 },
 "nbformat": 4,
 "nbformat_minor": 2
}
